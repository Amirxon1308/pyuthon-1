{
 "cells": [
  {
   "cell_type": "markdown",
   "metadata": {},
   "source": [
    "# O'zgaruvchilar - Variables"
   ]
  },
  {
   "cell_type": "markdown",
   "metadata": {},
   "source": [
    "### O'zgaruvchi-variable nima"
   ]
  },
  {
   "cell_type": "markdown",
   "metadata": {},
   "source": [
    "Tasavvur qiling sizdan 5 raqamini eslab turishni so'radim, keyin yana 2 raqamini\n",
    "xotirangizda saqlab turishni so'radim. Siz shu vaqtda xotirangizda 2 ta har xil qiymatlarni saqladingiz.\n",
    "Sizdan birinchi qiymatga 1 raqamini qo'shishni so'radim va siz xotirangizda 6 va 2 raqamlarini saqlab turibsiz\n",
    "Oxirida 1 qiymatdan ikkinchi qiymatni ayirib natijasini aytishimni so'raganinggizda siz 6-2 = 4 deb javob qaytarasiz. \n",
    "Siz butun jarayonni xotira va miya orqali amalga oshirdingiz xop kompyuter bu jarayonni qanday amalga oshiradi. \n",
    "Python kod yordamida bu jarayon quyidagicha amalga oshadi:\n"
   ]
  },
  {
   "cell_type": "code",
   "execution_count": 2,
   "metadata": {},
   "outputs": [
    {
     "name": "stdout",
     "output_type": "stream",
     "text": [
      "4\n"
     ]
    }
   ],
   "source": [
    "a = 5               # 5 qiymat uchun xotiradan a degan o'zgaruvchi orqali joy ajratish\n",
    "b = 2              # 2 qiymat uchun xotiradan b degan o'zgaruvchi orqali joy ajratish\n",
    "a = a + 1          # xotirada a deb e'lon qilingan o'zgaruvchi qiymati o'zgardi\n",
    "natija = a - b     # a-b dan kelib chiqadigan qiymat uchun natija deb nomlangan o'zgaruvchi orqali joy ajratish\n",
    "\n",
    "print(natija)   # natijani chop etish"
   ]
  },
  {
   "cell_type": "code",
   "execution_count": null,
   "metadata": {},
   "outputs": [],
   "source": [
    "# Bu kompyuterda bo'ladigan hisob kitoblarning eng oddiy misoli, kompyuter soniyasiga milliardlab bunday amalni bajaradi. \n",
    "\n",
    "# Shu sababdan ham biz O'ZGARUVCHILARNI e'lon qilishimiz lozim. \n",
    "\n",
    "# O'zgaruvchilar deb xotiradan aniq bir qiymatlarni saqlash uchun e'lon qilingan joyga aytiladi. \n",
    "\n",
    "# Yoki o'zgaruvchilar qiymatlarni saqlash uchun konteyner"
   ]
  },
  {
   "cell_type": "code",
   "execution_count": null,
   "metadata": {},
   "outputs": [],
   "source": []
  },
  {
   "cell_type": "code",
   "execution_count": 5,
   "metadata": {},
   "outputs": [
    {
     "name": "stdout",
     "output_type": "stream",
     "text": [
      "5\n",
      "ISE\n"
     ]
    }
   ],
   "source": [
    "# Misol uchun \n",
    "x = 5\n",
    "y = \"Python\"\n",
    "print(x)\n",
    "print(y)"
   ]
  },
  {
   "cell_type": "code",
   "execution_count": 6,
   "metadata": {},
   "outputs": [],
   "source": [
    "#Python dasturlash tilida o'zgaruvchilarni qaysi tipda ekanligini e'lon qilish shart emas, \n",
    "#ular o'rnatilgan keyin ham siz ularni o'zgartirishingiz mumkin"
   ]
  },
  {
   "cell_type": "code",
   "execution_count": 10,
   "metadata": {},
   "outputs": [
    {
     "name": "stdout",
     "output_type": "stream",
     "text": [
      "4\n",
      "Akbar\n"
     ]
    }
   ],
   "source": [
    "x = 4 # x integer tipida\n",
    "\n",
    "print(x)\n",
    "\n",
    "x = \"Akbar\" # x string tipidagi qiymatga o'zgardi\n",
    "\n",
    "print(x)"
   ]
  },
  {
   "cell_type": "code",
   "execution_count": null,
   "metadata": {},
   "outputs": [],
   "source": [
    "#Agar siz o'zgaruvchini data tipini e'lon qilishni xohlasanggiz siz \n",
    "#uni quyidagicha e'lon qilishinggiz lozim "
   ]
  },
  {
   "cell_type": "code",
   "execution_count": 11,
   "metadata": {},
   "outputs": [
    {
     "name": "stdout",
     "output_type": "stream",
     "text": [
      "3\n",
      "3\n",
      "3.0\n"
     ]
    }
   ],
   "source": [
    "x = str(3)\n",
    "y = int(3)\n",
    "z = float(3)\n",
    "\n",
    "print(x)\n",
    "print(y)\n",
    "print(z)\n"
   ]
  },
  {
   "cell_type": "code",
   "execution_count": 12,
   "metadata": {},
   "outputs": [
    {
     "name": "stdout",
     "output_type": "stream",
     "text": [
      "<class 'str'>\n",
      "<class 'int'>\n",
      "<class 'float'>\n"
     ]
    }
   ],
   "source": [
    "# type() funksiyasi yordamida siz istalgan o'zgaruvchini tipini aniqlashinggiz mumkin\n",
    "\n",
    "print(type(x))\n",
    "print(type(y))\n",
    "print(type(z))\n"
   ]
  },
  {
   "cell_type": "code",
   "execution_count": 13,
   "metadata": {},
   "outputs": [],
   "source": [
    "#Pythonda string tipidagi qiymatlarni e'lon qilishda \n",
    "#\" double quote\" va 'single quote' qiymatlari bir xil o'rinlarda ishlatilishi mumkin\n",
    "\n",
    "x = \"Python\" \n",
    "x = 'Python'  #ikkalasi bir xil ifoda"
   ]
  },
  {
   "cell_type": "code",
   "execution_count": 14,
   "metadata": {},
   "outputs": [
    {
     "name": "stdout",
     "output_type": "stream",
     "text": [
      "4\n",
      "Python\n"
     ]
    }
   ],
   "source": [
    "#O'zgaruvchi nomlari case-sensitive ya'ni a bilan A ikkalasi ikki xil o'zgaruvchi\n",
    "\n",
    "a = 4\n",
    "A = \"Python\" # a bilan A ikkalasi ikki xil o'zgaruvchi\n",
    "\n",
    "print(a)\n",
    "print(A)"
   ]
  },
  {
   "cell_type": "markdown",
   "metadata": {},
   "source": [
    "### O'zgaruvchi nomlarini tanlash"
   ]
  },
  {
   "cell_type": "code",
   "execution_count": 1,
   "metadata": {},
   "outputs": [],
   "source": [
    "'''O'zgaruvchilarni quyidagi shaklda e'lon qilish mumkin:\n",
    "    1. O'zgaruvchi nomi harf bilan yoki _ belgisi bilan boshlanishi mumkin;\n",
    "    2. O'zgaruvchi nomi raqam bilan boshlana olmaydi\n",
    "    3. O'zgaruvchi nomlari harf, raqam va _ belgisini o'z ichiga ola oladi (A-z, 0-9, va _)\n",
    "    4. O'zgaruvchi nomlari case sensitive ya'ni katta kichik harflarga ko'ra farqlanadi (birozg, Birozg, BIROZG har xil o'zgaruvchilar)\n",
    "    5. O'zgaruvchilar doim qo'shib yozilishi kerak \n",
    "''' \n",
    "\n",
    "birozg = \"Python\"\n",
    "_bir_ozg = \"Python\"\n",
    "bir_ozg = \"Python\"\n",
    "\n",
    "birOzg = \"Python\"\n",
    "BIROZG = \"Python\"\n",
    "birozg2 = \"Python\""
   ]
  },
  {
   "cell_type": "code",
   "execution_count": 2,
   "metadata": {},
   "outputs": [
    {
     "ename": "SyntaxError",
     "evalue": "invalid syntax (<ipython-input-2-b21823c59394>, line 1)",
     "output_type": "error",
     "traceback": [
      "\u001b[1;36m  File \u001b[1;32m\"<ipython-input-2-b21823c59394>\"\u001b[1;36m, line \u001b[1;32m1\u001b[0m\n\u001b[1;33m    2birozg = \"ISE\"\u001b[0m\n\u001b[1;37m     ^\u001b[0m\n\u001b[1;31mSyntaxError\u001b[0m\u001b[1;31m:\u001b[0m invalid syntax\n"
     ]
    }
   ],
   "source": [
    "# 2. O'zgaruvchi nomi raqam bilan boshlana olmaydi qoidasiga tushmagan \n",
    "\n",
    "2birozg = \"ISE\"\n",
    "\n"
   ]
  },
  {
   "cell_type": "code",
   "execution_count": 3,
   "metadata": {},
   "outputs": [
    {
     "ename": "SyntaxError",
     "evalue": "cannot assign to operator (<ipython-input-3-32f89ca66d8a>, line 1)",
     "output_type": "error",
     "traceback": [
      "\u001b[1;36m  File \u001b[1;32m\"<ipython-input-3-32f89ca66d8a>\"\u001b[1;36m, line \u001b[1;32m1\u001b[0m\n\u001b[1;33m    bir-ozg = \"ISE\"\u001b[0m\n\u001b[1;37m    ^\u001b[0m\n\u001b[1;31mSyntaxError\u001b[0m\u001b[1;31m:\u001b[0m cannot assign to operator\n"
     ]
    }
   ],
   "source": [
    "# 3. O'zgaruchi nomlari harf, raqam va _ belgisini o'z ichiga ola oladi (A-z, 0-9, va _)\n",
    "\n",
    "bir-ozg = \"ISE\""
   ]
  },
  {
   "cell_type": "code",
   "execution_count": 4,
   "metadata": {},
   "outputs": [
    {
     "ename": "SyntaxError",
     "evalue": "invalid syntax (<ipython-input-4-fd5c1b02a3c0>, line 1)",
     "output_type": "error",
     "traceback": [
      "\u001b[1;36m  File \u001b[1;32m\"<ipython-input-4-fd5c1b02a3c0>\"\u001b[1;36m, line \u001b[1;32m1\u001b[0m\n\u001b[1;33m    bir ozg = \"ISE\"\u001b[0m\n\u001b[1;37m        ^\u001b[0m\n\u001b[1;31mSyntaxError\u001b[0m\u001b[1;31m:\u001b[0m invalid syntax\n"
     ]
    }
   ],
   "source": [
    "# 5. O'zgaruvchilar qo'shib yozilishi kerak \n",
    "\n",
    "bir ozg = \"ISE\""
   ]
  },
  {
   "cell_type": "code",
   "execution_count": null,
   "metadata": {},
   "outputs": [],
   "source": [
    "# Ko'p so'zli o'zgaruvchi nomlarini e'lon qilish ko'p sonli o'zgaruvchi bu bitta\n",
    "#o'zgaruvchining turli nomlar jamlanmasidan iborat bo'lishi\n",
    "\n",
    "talabaningtugilganyili = 1993\n",
    "\n",
    "#Xuddi shu o'zgaruvchini e'lon qilishning 3 ta usuli mavjud:\n",
    "\n",
    "#1. Camel case variables - tuya ko'rinishidagi o'zgaruvchilar, har bir nomlar katta bilan boshlanadi birinchisidan tashqari\n",
    "\n",
    "talabaningTugilganYili = 1993\n",
    "\n",
    "#2.Pascal case variable name - Paskal ko'rinishidagi e'lon qilish\n",
    "\n",
    "TalTugYil = 1993\n",
    "\n",
    "#3. Snake case o'zgaruvchilarni e'lon qilish tipi\n",
    "tal_tug_yil = 1003\n",
    "\n"
   ]
  },
  {
   "cell_type": "markdown",
   "metadata": {},
   "source": [
    "## Ko'p O'zgaruvchilarga ko'p qiymatlarni birdan e'lon qilish"
   ]
  },
  {
   "cell_type": "code",
   "execution_count": 211,
   "metadata": {},
   "outputs": [
    {
     "name": "stdout",
     "output_type": "stream",
     "text": [
      "Apelsin\n",
      "Olma\n",
      "O'rik\n",
      "Apelsin Olma O'rik\n"
     ]
    }
   ],
   "source": [
    "x = \"Apelsin\"\n",
    "y = \"Olma\"\n",
    "z = \"O'rik\"\n",
    "\n",
    "print(x)\n",
    "print(y)\n",
    "print(z)\n",
    "\n",
    "print(x, y, z)"
   ]
  },
  {
   "cell_type": "code",
   "execution_count": 21,
   "metadata": {},
   "outputs": [],
   "source": [
    "a, b, c = \"Apelsin\", \"Olma\", \"O'rik\" # Ko'p o'zgaruvchilarga ko'p qiymatlarni e'lon qilish \n",
    "                                     \n"
   ]
  },
  {
   "cell_type": "code",
   "execution_count": 24,
   "metadata": {},
   "outputs": [
    {
     "name": "stdout",
     "output_type": "stream",
     "text": [
      "Apelsin\n",
      "Olma\n",
      "O'rik\n"
     ]
    }
   ],
   "source": [
    "print(a)\n",
    "print(b)\n",
    "print(c)"
   ]
  },
  {
   "cell_type": "code",
   "execution_count": 27,
   "metadata": {},
   "outputs": [
    {
     "ename": "ValueError",
     "evalue": "too many values to unpack (expected 3)",
     "output_type": "error",
     "traceback": [
      "\u001b[1;31m---------------------------------------------------------------------------\u001b[0m",
      "\u001b[1;31mValueError\u001b[0m                                Traceback (most recent call last)",
      "\u001b[1;32m<ipython-input-27-f58b78bf883b>\u001b[0m in \u001b[0;36m<module>\u001b[1;34m\u001b[0m\n\u001b[0;32m      1\u001b[0m \u001b[1;31m# Faqat bu usulda o'zgaruvchilar bilan qiymatlar soni mos ekanligini e'tibor berish shart\u001b[0m\u001b[1;33m\u001b[0m\u001b[1;33m\u001b[0m\u001b[1;33m\u001b[0m\u001b[0m\n\u001b[0;32m      2\u001b[0m \u001b[1;33m\u001b[0m\u001b[0m\n\u001b[1;32m----> 3\u001b[1;33m \u001b[0mx\u001b[0m\u001b[1;33m,\u001b[0m \u001b[0my\u001b[0m\u001b[1;33m,\u001b[0m \u001b[0mz\u001b[0m \u001b[1;33m=\u001b[0m \u001b[1;36m2\u001b[0m\u001b[1;33m,\u001b[0m \u001b[1;36m4.5\u001b[0m\u001b[1;33m,\u001b[0m \u001b[1;36m5\u001b[0m\u001b[1;33m,\u001b[0m \u001b[1;36m6\u001b[0m\u001b[1;33m\u001b[0m\u001b[1;33m\u001b[0m\u001b[0m\n\u001b[0m",
      "\u001b[1;31mValueError\u001b[0m: too many values to unpack (expected 3)"
     ]
    }
   ],
   "source": [
    "# Faqat bu usulda o'zgaruvchilar bilan qiymatlar soni mos ekanligini e'tibor berish shart\n",
    "\n",
    "x, y, z = 2, 4.5, 5, 6"
   ]
  },
  {
   "cell_type": "code",
   "execution_count": 28,
   "metadata": {},
   "outputs": [
    {
     "ename": "ValueError",
     "evalue": "not enough values to unpack (expected 3, got 2)",
     "output_type": "error",
     "traceback": [
      "\u001b[1;31m---------------------------------------------------------------------------\u001b[0m",
      "\u001b[1;31mValueError\u001b[0m                                Traceback (most recent call last)",
      "\u001b[1;32m<ipython-input-28-3eb24dc2c287>\u001b[0m in \u001b[0;36m<module>\u001b[1;34m\u001b[0m\n\u001b[1;32m----> 1\u001b[1;33m \u001b[0mx\u001b[0m\u001b[1;33m,\u001b[0m \u001b[0my\u001b[0m\u001b[1;33m,\u001b[0m \u001b[0mz\u001b[0m \u001b[1;33m=\u001b[0m \u001b[1;36m2\u001b[0m\u001b[1;33m,\u001b[0m \u001b[1;36m4.5\u001b[0m\u001b[1;33m\u001b[0m\u001b[1;33m\u001b[0m\u001b[0m\n\u001b[0m",
      "\u001b[1;31mValueError\u001b[0m: not enough values to unpack (expected 3, got 2)"
     ]
    }
   ],
   "source": [
    "x, y, z = 2, 4.5"
   ]
  },
  {
   "cell_type": "code",
   "execution_count": 210,
   "metadata": {},
   "outputs": [
    {
     "name": "stdout",
     "output_type": "stream",
     "text": [
      "Python\n",
      "Python\n",
      "Python\n",
      "Python Python Python\n"
     ]
    }
   ],
   "source": [
    "# har xil o'zgaruvchilarga bir xil qiymatni bir qatorda e'lon qilishinggiz mumkin\n",
    "\n",
    "x = y = z = \"Python\"\n",
    "\n",
    "print(x)\n",
    "print(y)\n",
    "print(z)\n",
    "\n",
    "print(x, y, z)"
   ]
  },
  {
   "cell_type": "code",
   "execution_count": 32,
   "metadata": {},
   "outputs": [
    {
     "name": "stdout",
     "output_type": "stream",
     "text": [
      "Olma\n"
     ]
    }
   ],
   "source": [
    "# Agar sizda list (ro'yhat), yoki tuple shaklidagi qiymatlar berilgan bo'lsa python ularni o'zgaruvchilarga\n",
    "# O'zgartirib olish imkonini beradi bu Collection unpacking deb nomlanadi.  masalan:\n",
    "\n",
    "mevalar = [\"Apelsin\", \"Olma\", \"O'rik\"]\n",
    "\n",
    "c, d, e  = mevalar\n",
    "\n",
    "print(d)"
   ]
  },
  {
   "cell_type": "markdown",
   "metadata": {},
   "source": [
    "## O'zgaruvchilarni chop etish "
   ]
  },
  {
   "cell_type": "code",
   "execution_count": 34,
   "metadata": {},
   "outputs": [],
   "source": [
    "#Pythonda print() statementi o'zgaruvchilarn chop etish ekranga chiqarish uchun ishlatiladi\n",
    "\n",
    "# O'zgaruvchi va textni birgalikda chop etish uchun + ifodasi ishlatiladi"
   ]
  },
  {
   "cell_type": "code",
   "execution_count": 39,
   "metadata": {},
   "outputs": [
    {
     "name": "stdout",
     "output_type": "stream",
     "text": [
      "Python bu dasturlash tili\n"
     ]
    }
   ],
   "source": [
    "x = \"dasturlash tili\"\n",
    "print(\"Python bu \" + x)"
   ]
  },
  {
   "cell_type": "code",
   "execution_count": 41,
   "metadata": {},
   "outputs": [
    {
     "name": "stdout",
     "output_type": "stream",
     "text": [
      "Python bu dasturlash tili\n"
     ]
    }
   ],
   "source": [
    "# xuddi shu tarzda ikkita o'zgaruvchilarni qo'shish uchun ham ishlatilishi mumkin\n",
    "\n",
    "x = \"Python bu \"\n",
    "y = \"dasturlash tili\"\n",
    "\n",
    "z = x + y \n",
    "\n",
    "print(z)\n"
   ]
  },
  {
   "cell_type": "code",
   "execution_count": 42,
   "metadata": {},
   "outputs": [
    {
     "name": "stdout",
     "output_type": "stream",
     "text": [
      "15\n"
     ]
    }
   ],
   "source": [
    "# + belgisi raqamlarda matematik qo'shishni ifodalaydi\n",
    "\n",
    "x = 5\n",
    "y = 10\n",
    "\n",
    "print(x + y)"
   ]
  },
  {
   "cell_type": "code",
   "execution_count": 45,
   "metadata": {},
   "outputs": [
    {
     "ename": "TypeError",
     "evalue": "unsupported operand type(s) for +: 'int' and 'str'",
     "output_type": "error",
     "traceback": [
      "\u001b[1;31m---------------------------------------------------------------------------\u001b[0m",
      "\u001b[1;31mTypeError\u001b[0m                                 Traceback (most recent call last)",
      "\u001b[1;32m<ipython-input-45-826452a112de>\u001b[0m in \u001b[0;36m<module>\u001b[1;34m\u001b[0m\n\u001b[0;32m      4\u001b[0m \u001b[0my\u001b[0m \u001b[1;33m=\u001b[0m \u001b[1;34m\"Python\"\u001b[0m\u001b[1;33m\u001b[0m\u001b[1;33m\u001b[0m\u001b[0m\n\u001b[0;32m      5\u001b[0m \u001b[1;33m\u001b[0m\u001b[0m\n\u001b[1;32m----> 6\u001b[1;33m \u001b[0mprint\u001b[0m\u001b[1;33m(\u001b[0m\u001b[0mx\u001b[0m \u001b[1;33m+\u001b[0m \u001b[0my\u001b[0m\u001b[1;33m)\u001b[0m\u001b[1;33m\u001b[0m\u001b[1;33m\u001b[0m\u001b[0m\n\u001b[0m",
      "\u001b[1;31mTypeError\u001b[0m: unsupported operand type(s) for +: 'int' and 'str'"
     ]
    }
   ],
   "source": [
    "#AGAR siz int va string tipidagi qiymatlarni qo'shishga harakat qilsanggiz xatolik qaytariladi\n",
    "\n",
    "x = 5\n",
    "y = \"Python\"\n",
    "\n",
    "print(x + y)"
   ]
  },
  {
   "cell_type": "code",
   "execution_count": 46,
   "metadata": {},
   "outputs": [
    {
     "name": "stdout",
     "output_type": "stream",
     "text": [
      "5Python\n"
     ]
    }
   ],
   "source": [
    "# Agar xuddi shu ifodani string tipiga o'zgartiradigan bo'lsam\n",
    "\n",
    "x = str(5)\n",
    "y = \"Python\"\n",
    "\n",
    "print(x + y)"
   ]
  },
  {
   "cell_type": "markdown",
   "metadata": {},
   "source": [
    "## Global o'zgaruvchilar\n"
   ]
  },
  {
   "cell_type": "code",
   "execution_count": 47,
   "metadata": {},
   "outputs": [],
   "source": [
    "# O'zgaruvchilarning qayerda e'lon qilinishiga ko'ra ikkita turi mavjud Global (umumiy) va local (mahallik)\n",
    "\n",
    "#Global o'zgaruvchi dastur kodining asosiy qismida barcha funksiyalardan tashqarida e'lon qilinadi\n",
    "# Lokal o'zgaruvchilar esa dastur funksiyasi yoki kod bloki ichida e'lon qilinadi va faqatgina funksiya ichida foydalanilishi mumkin"
   ]
  },
  {
   "cell_type": "code",
   "execution_count": 49,
   "metadata": {},
   "outputs": [
    {
     "name": "stdout",
     "output_type": "stream",
     "text": [
      "Python bu dasturlash tili\n"
     ]
    }
   ],
   "source": [
    "#Global o'zgaruvchiga misol funksiya tashqarisida o'zgaruvchi e'lon qilish va undan funksiya ichida foydalanish\n",
    "\n",
    "x = \"dasturlash tili\" # Global o'zgaruvchi\n",
    "\n",
    "def funksiya():               # funksiyani yaratish\n",
    "    print(\"Python bu \" + x)   # global o'zgaruvchidan funksiya ichida foydalanish\n",
    "    \n",
    "funksiya()"
   ]
  },
  {
   "cell_type": "code",
   "execution_count": 53,
   "metadata": {},
   "outputs": [
    {
     "name": "stdout",
     "output_type": "stream",
     "text": [
      "Python bu  ilonning bir turi\n",
      "Python bu dasturlash tili\n"
     ]
    }
   ],
   "source": [
    "# Lokal o'zgaruvchilar esa dastur funksiyasi yoki kod bloki ichida e'lon qilinadi va \n",
    "#faqatgina funksiya ichida foydalanilishi mumkin\n",
    "\n",
    "#Global va lokal o'zgaruvchilarni bir xil nomda yaratamiz\n",
    "\n",
    "x = \"dasturlash tili\"  # global o'zgaruvchi\n",
    "\n",
    "def funksiya():\n",
    "    x = \"ilonning bir turi\" #funksiya ichidagi local o'zgaruvchi\n",
    "    print(\"Python bu \" + x)    #Natija local o'zgaruvchi bilan chop etiladi\n",
    "    \n",
    "funksiya()               \n",
    "    \n",
    "    \n",
    "print(\"Python bu \" + x) # Natija global o'zgaruvchi bilan chop etiladi"
   ]
  },
  {
   "cell_type": "code",
   "execution_count": 56,
   "metadata": {},
   "outputs": [
    {
     "name": "stdout",
     "output_type": "stream",
     "text": [
      "dasturlash tili\n",
      "Python bu dasturlash tili\n"
     ]
    }
   ],
   "source": [
    "#Agar global kalit so'zidan lokal funksiya ichida foydalansanggiz bu o'zgaruvchi global sifatida butun kodda e'lon qilinadi\n",
    "\n",
    "def funksiya():\n",
    "    global x                   # global kalit so'zi yordamida o'zgaruvchini globalga o'zgartirish\n",
    "    x = \"dasturlash tili\"\n",
    "    print(x)\n",
    "    \n",
    "funksiya()\n",
    "\n",
    "print(\"Python bu \" + x)"
   ]
  },
  {
   "cell_type": "code",
   "execution_count": 58,
   "metadata": {},
   "outputs": [
    {
     "name": "stdout",
     "output_type": "stream",
     "text": [
      "Python bu ilonning bir turi\n",
      "ilonning bir turi\n"
     ]
    }
   ],
   "source": [
    "#Funksiya ichidagi qiymatni globalga o'zgartiradigan bo'lsak \n",
    "\n",
    "x = \"dasturlash tili\" #global o'zgaruvchi\n",
    "\n",
    "def funksiya():\n",
    "    global x                   #global kalit so'zi yordamida lokal o'zgaruvchini globalga o'zgartirdik\n",
    "    x = \"ilonning bir turi\"\n",
    "    \n",
    "    \n",
    "funksiya()\n",
    "\n",
    "print(\"Python bu \" + x)        #global deb e'lon qilingan qiymat chop etiladi. \n",
    "\n",
    "print(x)"
   ]
  },
  {
   "cell_type": "markdown",
   "metadata": {},
   "source": [
    "# Ma'lumotlar turlari - Data types"
   ]
  },
  {
   "cell_type": "code",
   "execution_count": 59,
   "metadata": {},
   "outputs": [],
   "source": [
    "#Dasturlash tillarida ma'lumotlar tipi data types ya'ni qiymatlarning tipi juda muhim\n",
    "# O'zgaruvchilar qiymatlarni turlicha tiplarda saqlashi mumkin va \n",
    "#ular bilan har xil ishlarni amalga oshirish mumkin.\n",
    "# Pythonda quyidagi turdagi qiymatlar tiplari mavjud"
   ]
  },
  {
   "cell_type": "code",
   "execution_count": null,
   "metadata": {},
   "outputs": [],
   "source": [
    "# Textli ma'lumotlar bilan ishlash uchun: STRING - str\n",
    "\n",
    "x = \"Hello world\"\n",
    "\n",
    "\n",
    "#To'plam ma'lumotlarini ifodalash uchun LIST, TUPLE va RANGE \n",
    "\n",
    "#Mapping - kalit: qiymat shaklida bog'liqliklarni yaratish uchun: DICTIONARY - dict \n",
    "\n",
    "#To'plam ma'lumotlarini ifodalash uchun set, frozenset\n",
    "\n",
    "#Logik qiymalarni e'lon qilish uchun: boolean - bool\n",
    "\n",
    "#Binar tipidagi qiymatlar uchun: bytes, bytearray, memoryview\n"
   ]
  },
  {
   "cell_type": "markdown",
   "metadata": {},
   "source": [
    "### Integer tipidagi ma'lumotlar"
   ]
  },
  {
   "cell_type": "code",
   "execution_count": 70,
   "metadata": {},
   "outputs": [
    {
     "name": "stdout",
     "output_type": "stream",
     "text": [
      "<class 'int'>\n",
      "<class 'int'>\n",
      "<class 'int'>\n",
      "<class 'int'>\n"
     ]
    }
   ],
   "source": [
    "# Raqamli ma'lumotlar bilan ishlash uchun : INT, FLOAT va COMPLEX\n",
    "\n",
    "#Integer tipidagi ma'lumotlar: int\n",
    "# butun, positive yoki negative, chegaralanmagan uzunlikka ega bo'lgan raqam\n",
    "\n",
    "a = 2\n",
    "b = -100\n",
    "c = 123456789\n",
    "d = 38392930405434434343\n",
    "\n",
    "print(type(a))\n",
    "print(type(b))\n",
    "print(type(c))\n",
    "print(type(d))"
   ]
  },
  {
   "cell_type": "code",
   "execution_count": 72,
   "metadata": {},
   "outputs": [
    {
     "name": "stdout",
     "output_type": "stream",
     "text": [
      "<class 'float'>\n",
      "<class 'float'>\n",
      "<class 'float'>\n",
      "<class 'float'>\n",
      "<class 'float'>\n"
     ]
    }
   ],
   "source": [
    "#Float tipidagi sonlar: kasr qismi mavjud, minus yoki plus qiymatlar\n",
    "# e bu shu raqamdan keyin kelgan 10 ning darajasi kabi ifodalanishi mumkin.\n",
    "\n",
    "a = 2.10\n",
    "b = -9.5\n",
    "d = 100.e0\n",
    "c = 123456789.e1\n",
    "f = -87.7e100\n",
    "\n",
    "print(type(a))\n",
    "print(type(b))\n",
    "print(type(c))\n",
    "print(type(d))\n",
    "print(type(f))"
   ]
  },
  {
   "cell_type": "code",
   "execution_count": 73,
   "metadata": {},
   "outputs": [
    {
     "name": "stdout",
     "output_type": "stream",
     "text": [
      "<class 'complex'>\n",
      "<class 'complex'>\n",
      "<class 'complex'>\n",
      "<class 'complex'>\n"
     ]
    }
   ],
   "source": [
    "#Complex raqamlar  O'zida hayoliy (imaginary component) va faqat va faqat J yoki j bilan ishlatiladi\n",
    "\n",
    "a = 2 + 1j  #j bunda hayoliy birorta qiymatni o'z ichiga oladigan belgi\n",
    "b = 100 + 10j\n",
    "c = 5J\n",
    "d = -5J\n",
    "\n",
    "print(type(a))\n",
    "print(type(b))\n",
    "print(type(c))\n",
    "print(type(d))\n"
   ]
  },
  {
   "cell_type": "markdown",
   "metadata": {},
   "source": [
    "## Data typelarni boshqa typega konvertatsiya qilish"
   ]
  },
  {
   "cell_type": "code",
   "execution_count": 78,
   "metadata": {},
   "outputs": [
    {
     "name": "stdout",
     "output_type": "stream",
     "text": [
      "1.0\n",
      "2\n",
      "(1+0j)\n",
      "<class 'float'>\n",
      "<class 'int'>\n",
      "<class 'complex'>\n"
     ]
    }
   ],
   "source": [
    "# int(), float(), complex() tipidagi ma'lumotlarni boshqa tipga konvertatsiya qilish imkoniyati mavjud\n",
    "\n",
    "x = 1  #int\n",
    "y = 2.9 #float\n",
    "z = 1j #complex\n",
    "\n",
    "#int => float\n",
    "\n",
    "a = float(x)\n",
    "\n",
    "#float => int\n",
    "\n",
    "b = int(y)\n",
    "\n",
    "#int =>complex\n",
    "\n",
    "c = complex(x)\n",
    "\n",
    "print(a)\n",
    "print(b)\n",
    "print(c)\n",
    "\n",
    "\n",
    "print(type(a))\n",
    "print(type(b))\n",
    "print(type(c))\n"
   ]
  },
  {
   "cell_type": "markdown",
   "metadata": {},
   "source": [
    "## Random Number"
   ]
  },
  {
   "cell_type": "code",
   "execution_count": 79,
   "metadata": {},
   "outputs": [],
   "source": [
    "# Pythonda random() degan random raqamlarni ishlab chiqadigan funksiya yo'q lekin built in module mavjud. \n"
   ]
  },
  {
   "cell_type": "code",
   "execution_count": 85,
   "metadata": {},
   "outputs": [
    {
     "name": "stdout",
     "output_type": "stream",
     "text": [
      "8\n",
      "6\n"
     ]
    }
   ],
   "source": [
    "import random\n",
    "\n",
    "print(random.randrange(1, 10))   #random raqamlar orasidan bitta raqamni tanlab chiqaradi\n",
    "\n",
    "print(random.randint(5,15))"
   ]
  },
  {
   "cell_type": "markdown",
   "metadata": {},
   "source": [
    "## String - satr tipidagi ma'lumotlar"
   ]
  },
  {
   "cell_type": "code",
   "execution_count": 86,
   "metadata": {},
   "outputs": [],
   "source": [
    "#String-satr, text ko'rinishidagi ma'lumotlar pythonda yakka yoki juft ' ' , \" \" belgilar bilan ishlatilishi mumkin\n",
    "#stringlar array ya'ni qatorlar tipidagi ma'lumotlardir\n",
    "# \"Salom\" va 'Salom' bu bir xil ifoda\n"
   ]
  },
  {
   "cell_type": "code",
   "execution_count": 87,
   "metadata": {},
   "outputs": [
    {
     "name": "stdout",
     "output_type": "stream",
     "text": [
      "Salom\n",
      "Salom\n"
     ]
    }
   ],
   "source": [
    "print(\"Salom\")\n",
    "print('Salom')"
   ]
  },
  {
   "cell_type": "code",
   "execution_count": 90,
   "metadata": {},
   "outputs": [
    {
     "name": "stdout",
     "output_type": "stream",
     "text": [
      "Salom\n",
      "<class 'str'>\n"
     ]
    }
   ],
   "source": [
    "# String tipidagi ma'lumot uchun o'zgaruvchini e'lon qiladigan bo'lsak\n",
    "\n",
    "a = \"Salom\"\n",
    "\n",
    "print(a)\n",
    "print(type(a))"
   ]
  },
  {
   "cell_type": "code",
   "execution_count": 91,
   "metadata": {},
   "outputs": [
    {
     "name": "stdout",
     "output_type": "stream",
     "text": [
      "Python is a widely used high-level programming language for general-purpose programming, created by Guido van\n",
      "Rossum and first released in 1991. Python features a dynamic type system and automatic memory management\n",
      "and supports multiple programming paradigms, including object-oriented, imperative, functional programming,\n",
      "and procedural styles. It has a large and comprehensive standard library.\n"
     ]
    }
   ],
   "source": [
    "#Ko'p qatorli string ma'lumotlar\n",
    "\n",
    "a = \"\"\"Python is a widely used high-level programming language for general-purpose programming, created by Guido van\n",
    "Rossum and first released in 1991. Python features a dynamic type system and automatic memory management\n",
    "and supports multiple programming paradigms, including object-oriented, imperative, functional programming,\n",
    "and procedural styles. It has a large and comprehensive standard library.\"\"\"\n",
    "\n",
    "print(a)"
   ]
  },
  {
   "cell_type": "code",
   "execution_count": 97,
   "metadata": {},
   "outputs": [
    {
     "name": "stdout",
     "output_type": "stream",
     "text": [
      "H\n",
      "e\n",
      "w\n"
     ]
    }
   ],
   "source": [
    "#stringlarda har bitta harfni yoki belgini qayerda joylashganiga qarab ajratib olish chop etish mumkin.\n",
    "#to'rtburchak qavs satrdagi bir uzunlikka ega belgini ajratib olishga yordam beradi. \n",
    "\n",
    "a = \"Hello, world\"\n",
    "print(a[0])\n",
    "print(a[1])\n",
    "print(a[7])"
   ]
  },
  {
   "cell_type": "code",
   "execution_count": 100,
   "metadata": {},
   "outputs": [
    {
     "name": "stdout",
     "output_type": "stream",
     "text": [
      "a\n",
      "p\n",
      "e\n",
      "l\n",
      "s\n",
      "i\n",
      "n\n"
     ]
    }
   ],
   "source": [
    "#stringlar qator ma'lumotar bo'lgani sababli for loop yordamida har bitta belgisiga murojaat qilishimiz mumkin. \n",
    "\n",
    "for x in \"apelsin\":\n",
    "    print(x)"
   ]
  },
  {
   "cell_type": "code",
   "execution_count": 101,
   "metadata": {},
   "outputs": [
    {
     "name": "stdout",
     "output_type": "stream",
     "text": [
      "12\n"
     ]
    }
   ],
   "source": [
    "# len() funksiyasi yordamida stringni uzunligini aniqlashimiz mumkin \n",
    "\n",
    "a = \"Hello, world\"\n",
    "print(len(a))"
   ]
  },
  {
   "cell_type": "code",
   "execution_count": 102,
   "metadata": {},
   "outputs": [
    {
     "name": "stdout",
     "output_type": "stream",
     "text": [
      "True\n"
     ]
    }
   ],
   "source": [
    "# Textda qanday belgi, so'z yoki so'zlar qatnashgan qatmashmaganini tekshirish mumkin\n",
    "\n",
    "txt = \"Hayot quvonchli kunlar va mashaqqatlardan iborat\"\n",
    "print(\"Hayot\" in txt)"
   ]
  },
  {
   "cell_type": "code",
   "execution_count": 105,
   "metadata": {},
   "outputs": [
    {
     "name": "stdout",
     "output_type": "stream",
     "text": [
      "Ha , 'Hayot' so'zi qatnashgan\n"
     ]
    }
   ],
   "source": [
    "#if yordamida qandaydir xabar ham chiqarishimiz mumkin\n",
    "\n",
    "\n",
    "txt = \"Hayot quvonchli kunlar va mashaqqatlardan iborat\"\n",
    "if \"Hayot\" in txt:\n",
    "    print(\"Ha , 'Hayot' so'zi qatnashgan\")\n"
   ]
  },
  {
   "cell_type": "code",
   "execution_count": 106,
   "metadata": {},
   "outputs": [
    {
     "name": "stdout",
     "output_type": "stream",
     "text": [
      "Yo'q bunday so'z tekstda qatnashmagan\n"
     ]
    }
   ],
   "source": [
    "#if yordamida qandaydir xabar ham chiqarishimiz mumkin\n",
    "\n",
    "\n",
    "txt = \"Hayot quvonchli kunlar va mashaqqatlardan iborat\"\n",
    "if \"python\" in txt:\n",
    "    print(\"Ha , 'Hayot' so'zi qatnashgan\")\n",
    "else:\n",
    "    print(\"Yo'q bunday so'z tekstda qatnashmagan\")"
   ]
  },
  {
   "cell_type": "markdown",
   "metadata": {},
   "source": [
    "## String Slicing - stringni qismlarga ajratish bo'lish\n"
   ]
  },
  {
   "cell_type": "code",
   "execution_count": 108,
   "metadata": {},
   "outputs": [
    {
     "name": "stdout",
     "output_type": "stream",
     "text": [
      "llo\n",
      "H\n"
     ]
    }
   ],
   "source": [
    "#Slicing - qismlarga ajratish yordamida stringdan har xil qismlarni ajratib olish mumkin\n",
    "# 2 chi belgidan 5 belgigacha bo'lgan belgilarni chiqarish\n",
    "b = \"Hello, World!\"\n",
    "print(b[2:5])\n",
    "print(b[0])"
   ]
  },
  {
   "cell_type": "code",
   "execution_count": 110,
   "metadata": {},
   "outputs": [
    {
     "name": "stdout",
     "output_type": "stream",
     "text": [
      "llo, World!\n"
     ]
    }
   ],
   "source": [
    "#Ikkinchi belgidan oxirgi belgigacha bo'lgan qiymatlarni chop etish\n",
    "\n",
    "b = \"Hello, World!\"\n",
    "print(b[2:])\n"
   ]
  },
  {
   "cell_type": "code",
   "execution_count": 115,
   "metadata": {},
   "outputs": [
    {
     "name": "stdout",
     "output_type": "stream",
     "text": [
      "o\n",
      "!\n",
      "d\n",
      "orl\n",
      "Hello, World\n"
     ]
    }
   ],
   "source": [
    "#Negative indexing yoki so'zlarni orqa tarafidan indeklash\n",
    "\n",
    "b = \"Hello, World!\"\n",
    "\n",
    "print(b[-5]) #so'z oxiridan boshlab indekslaganda \n",
    "print(b[-1])\n",
    "print(b[-2])\n",
    "print(b[-5:-2])\n",
    "print(b[:-1])"
   ]
  },
  {
   "cell_type": "markdown",
   "metadata": {},
   "source": [
    "## Stringlar ustida har xil o'zgarishlar qilish "
   ]
  },
  {
   "cell_type": "code",
   "execution_count": 116,
   "metadata": {},
   "outputs": [],
   "source": [
    "#Pythonda stringlar bilan ishlash uchun har xil tayyor methodlar mavjud"
   ]
  },
  {
   "cell_type": "code",
   "execution_count": 117,
   "metadata": {},
   "outputs": [
    {
     "name": "stdout",
     "output_type": "stream",
     "text": [
      "HELLO, WORLD!\n"
     ]
    }
   ],
   "source": [
    "# upper() methodi stringni katta harflarda tasvirlash uchun ishlatiladi\n",
    "\n",
    "a = \"Hello, World!\"\n",
    "print(a.upper())"
   ]
  },
  {
   "cell_type": "code",
   "execution_count": 118,
   "metadata": {},
   "outputs": [
    {
     "name": "stdout",
     "output_type": "stream",
     "text": [
      "hello, world!\n"
     ]
    }
   ],
   "source": [
    "# lower() methodi stringni kichik harflarda tasvirlash uchun ishlatiladi\n",
    "\n",
    "a = \"Hello, World!\"\n",
    "print(a.lower())"
   ]
  },
  {
   "cell_type": "code",
   "execution_count": 119,
   "metadata": {},
   "outputs": [
    {
     "name": "stdout",
     "output_type": "stream",
     "text": [
      "Hello, world!\n"
     ]
    }
   ],
   "source": [
    "#strip() stringlar orasida bo'sh o'rinlarni whitespacelarni yo'qotish\n",
    "\n",
    "a = \" Hello, world! \"\n",
    "\n",
    "print(a.strip())"
   ]
  },
  {
   "cell_type": "code",
   "execution_count": 123,
   "metadata": {},
   "outputs": [
    {
     "name": "stdout",
     "output_type": "stream",
     "text": [
      "Jello, World!\n",
      "Salom, World!\n"
     ]
    }
   ],
   "source": [
    "#replace() methodi stringdagi belgini boshqa bir belgiga o'zgartirish uchun ishlatiladi\n",
    "\n",
    "\n",
    "a = \"Hello, World!\"\n",
    "print(a.replace(\"H\", \"J\"))\n",
    "\n",
    "print(a.replace(\"Hello\", \"Salom\"))"
   ]
  },
  {
   "cell_type": "code",
   "execution_count": 127,
   "metadata": {},
   "outputs": [
    {
     "name": "stdout",
     "output_type": "stream",
     "text": [
      "['Hello', ' World!']\n"
     ]
    }
   ],
   "source": [
    "#split() methodi stringdagi so'zlarni , yordamida substringlarga ajratib beradi\n",
    "\n",
    "a = \"Hello, World!\"\n",
    "\n",
    "print(a.split(\",\"))\n",
    "\n",
    "\n"
   ]
  },
  {
   "cell_type": "markdown",
   "metadata": {},
   "source": [
    "## String concatenation- stringlarni birlashtirish"
   ]
  },
  {
   "cell_type": "code",
   "execution_count": 129,
   "metadata": {},
   "outputs": [
    {
     "name": "stdout",
     "output_type": "stream",
     "text": [
      "HelloWorld\n",
      "Hello World\n"
     ]
    }
   ],
   "source": [
    "# string tipidagi ikkita qiymatni birlashtirish\n",
    "\n",
    "a = \"Hello\"\n",
    "b = \"World\"\n",
    "c = a + b\n",
    "\n",
    "print(c)\n",
    "\n",
    "a = \"Hello\"\n",
    "b = \"World\"\n",
    "c = a + \" \" +  b\n",
    "\n",
    "print(c)"
   ]
  },
  {
   "cell_type": "markdown",
   "metadata": {},
   "source": [
    "## Stringlarni formatlash"
   ]
  },
  {
   "cell_type": "code",
   "execution_count": 130,
   "metadata": {},
   "outputs": [
    {
     "ename": "TypeError",
     "evalue": "can only concatenate str (not \"int\") to str",
     "output_type": "error",
     "traceback": [
      "\u001b[1;31m---------------------------------------------------------------------------\u001b[0m",
      "\u001b[1;31mTypeError\u001b[0m                                 Traceback (most recent call last)",
      "\u001b[1;32m<ipython-input-130-7b834c0b6e1b>\u001b[0m in \u001b[0;36m<module>\u001b[1;34m\u001b[0m\n\u001b[0;32m      1\u001b[0m \u001b[0myosh\u001b[0m \u001b[1;33m=\u001b[0m \u001b[1;36m28\u001b[0m\u001b[1;33m\u001b[0m\u001b[1;33m\u001b[0m\u001b[0m\n\u001b[1;32m----> 2\u001b[1;33m \u001b[0mtxt\u001b[0m \u001b[1;33m=\u001b[0m \u001b[1;34m\"Mening ismim Azimbek va mening yoshim \"\u001b[0m \u001b[1;33m+\u001b[0m \u001b[0myosh\u001b[0m\u001b[1;33m\u001b[0m\u001b[1;33m\u001b[0m\u001b[0m\n\u001b[0m\u001b[0;32m      3\u001b[0m \u001b[1;33m\u001b[0m\u001b[0m\n\u001b[0;32m      4\u001b[0m \u001b[0mprint\u001b[0m\u001b[1;33m(\u001b[0m\u001b[0mtxt\u001b[0m\u001b[1;33m)\u001b[0m\u001b[1;33m\u001b[0m\u001b[1;33m\u001b[0m\u001b[0m\n",
      "\u001b[1;31mTypeError\u001b[0m: can only concatenate str (not \"int\") to str"
     ]
    }
   ],
   "source": [
    "#Python O'zgaruvchilari qismida ko'rganimizdek biz harflar va raqamlarni o'zaro qo'sha olmaymiz: \n",
    "\n",
    "yosh = 28  # int\n",
    "txt = \"Mening ismim Azimbek va mening yoshim \" + yosh # string + int ERROR\n",
    "\n",
    "print(txt)"
   ]
  },
  {
   "cell_type": "code",
   "execution_count": 131,
   "metadata": {},
   "outputs": [
    {
     "name": "stdout",
     "output_type": "stream",
     "text": [
      "Mening ismim Azimbek va mening yoshim 28\n"
     ]
    }
   ],
   "source": [
    "#Lekin format() metodi yordamida stringlar va raqamlarni o'zaro bog'lashimiz mumkin\n",
    "#Format methodi qiymatlarni o'ziga qabul qiladi, kerakli formatga o'giradid va {} belgisi ko'rsatilgan joyga joylashtirib beradi\n",
    "\n",
    "\n",
    "yosh = 28  # int\n",
    "txt = \"Mening ismim Azimbek va mening yoshim {}\" \n",
    "\n",
    "print(txt.format(yosh))\n"
   ]
  },
  {
   "cell_type": "code",
   "execution_count": 136,
   "metadata": {},
   "outputs": [
    {
     "name": "stdout",
     "output_type": "stream",
     "text": [
      "Men miqdori 5 dona, idsi 490 bo'lgan atirlarni 15000 so'mdan sotib oldim\n",
      "Men miqdori 490 dona, idsi 15000 bo'lgan atirlarni 5 so'mdan sotib oldim\n"
     ]
    }
   ],
   "source": [
    "# Format methodi chegaralanmagan qiymatlarni olib ularni kerakli joyiga \n",
    "#joylashtirib beraveradi faqat o'rinlarini to'g'ri ifodalash lozim\n",
    "\n",
    "miqdori = 5\n",
    "idsi = 490\n",
    "narxi = 15000\n",
    "\n",
    "buyurtma = \"Men miqdori {} dona, idsi {} bo'lgan atirlarni {} so'mdan sotib oldim\"\n",
    "\n",
    "print(buyurtma.format(miqdori, idsi, narxi))\n",
    "\n",
    "print(buyurtma.format(idsi, narxi, miqdori)) # maboda o'rni o'zgarib qoladigan bo'lsa noto'g'ri natija kelib chiqadi"
   ]
  },
  {
   "cell_type": "code",
   "execution_count": 137,
   "metadata": {},
   "outputs": [
    {
     "name": "stdout",
     "output_type": "stream",
     "text": [
      "Men miqdori 5 dona, idsi 490 bo'lgan atirlarni 15000 so'mdan sotib oldim\n"
     ]
    }
   ],
   "source": [
    "#Qiymatlarni boshqa o'rinlarga yozib quyishni oldini olish uchun ularni 0 dan boshlab to'g'ri ketma ketlikda indekslash mumkin. \n",
    "\n",
    "miqdori = 5 #0\n",
    "idsi = 490  #1\n",
    "narxi = 15000 #2\n",
    "\n",
    "buyurtma = \"Men miqdori {0} dona, idsi {1} bo'lgan atirlarni {2} so'mdan sotib oldim\"\n",
    "\n",
    "print(buyurtma.format(miqdori, idsi, narxi))"
   ]
  },
  {
   "cell_type": "code",
   "execution_count": 140,
   "metadata": {},
   "outputs": [
    {
     "name": "stdout",
     "output_type": "stream",
     "text": [
      "O'zbekiston\n",
      "O'zbekiston\n"
     ]
    }
   ],
   "source": [
    "#String tipidagi ma'lumotlar bilan ishlashda turlicha belgilar ishlatiladi va ularning turlicha vazifasi mavjud\n",
    "\n",
    "# O'zbekiston tarzida yozishni quyidagicha bajarish mumkin\n",
    "\n",
    "txt = 'O\\'zbekiston' \n",
    "print(txt)\n",
    "# yoki\n",
    "\n",
    "txt1 = \"O'zbekiston\"\n",
    "print(txt1)"
   ]
  },
  {
   "cell_type": "code",
   "execution_count": 141,
   "metadata": {},
   "outputs": [
    {
     "name": "stdout",
     "output_type": "stream",
     "text": [
      "Bitta backslash \\ belgisini kiritish\n"
     ]
    }
   ],
   "source": [
    "# bitta \\ backslash belgisini kiritish\n",
    "\n",
    "txt = \"Bitta backslash \\\\ belgisini kiritish\"\n",
    "print(txt)"
   ]
  },
  {
   "cell_type": "code",
   "execution_count": 142,
   "metadata": {},
   "outputs": [
    {
     "name": "stdout",
     "output_type": "stream",
     "text": [
      "Hello\n",
      "World!\n"
     ]
    }
   ],
   "source": [
    "# yangi qatordan \\n yozish\n",
    "\n",
    "txt = \"Hello\\nWorld!\"\n",
    "print(txt)"
   ]
  },
  {
   "cell_type": "code",
   "execution_count": 148,
   "metadata": {},
   "outputs": [
    {
     "name": "stdout",
     "output_type": "stream",
     "text": [
      "Hello \tWorld!\n"
     ]
    }
   ],
   "source": [
    "#stringlar orasida tab hajmida bo'sh joy qoldirish\n",
    "\n",
    "txt = \"Hello \\tWorld!\"\n",
    "print(txt)"
   ]
  },
  {
   "cell_type": "code",
   "execution_count": 149,
   "metadata": {},
   "outputs": [
    {
     "name": "stdout",
     "output_type": "stream",
     "text": [
      "Hello \bWorld!\n"
     ]
    }
   ],
   "source": [
    "#\\b backspace stringlar orasida bitta joyni o'chirish\n",
    "\n",
    "txt = \"Hello \\bWorld!\"\n",
    "print(txt)"
   ]
  },
  {
   "cell_type": "markdown",
   "metadata": {},
   "source": [
    "# Mantiqiy ifodalar - Booleans"
   ]
  },
  {
   "cell_type": "code",
   "execution_count": 150,
   "metadata": {},
   "outputs": [],
   "source": [
    "#Boolean qiymatlar o'zida ikkita qiymatni TRUE yoki FALSE qiymatlarni tasvirlaydi\n",
    "#ifodaga qarab rostlik yoki yolg'onlikka tekshiradi\n",
    "#Ikkita qiymatni solishtirgan vaqtimizda Python Boolean orqali to'g'ri yoki noto'g'ri sifatida javob qaytaradi\n",
    "\n"
   ]
  },
  {
   "cell_type": "code",
   "execution_count": 151,
   "metadata": {},
   "outputs": [
    {
     "name": "stdout",
     "output_type": "stream",
     "text": [
      "True\n"
     ]
    }
   ],
   "source": [
    "print(10 > 9)"
   ]
  },
  {
   "cell_type": "code",
   "execution_count": 153,
   "metadata": {},
   "outputs": [
    {
     "name": "stdout",
     "output_type": "stream",
     "text": [
      "False\n"
     ]
    }
   ],
   "source": [
    "print(10 == 9)"
   ]
  },
  {
   "cell_type": "code",
   "execution_count": 154,
   "metadata": {},
   "outputs": [
    {
     "name": "stdout",
     "output_type": "stream",
     "text": [
      "False\n"
     ]
    }
   ],
   "source": [
    "print(10 < 9)"
   ]
  },
  {
   "cell_type": "code",
   "execution_count": 1,
   "metadata": {},
   "outputs": [
    {
     "ename": "NameError",
     "evalue": "name 'FALSE' is not defined",
     "output_type": "error",
     "traceback": [
      "\u001b[1;31m---------------------------------------------------------------------------\u001b[0m",
      "\u001b[1;31mNameError\u001b[0m                                 Traceback (most recent call last)",
      "\u001b[1;32m<ipython-input-1-0b182341659d>\u001b[0m in \u001b[0;36m<module>\u001b[1;34m\u001b[0m\n\u001b[0;32m      8\u001b[0m \u001b[1;33m\u001b[0m\u001b[0m\n\u001b[0;32m      9\u001b[0m \u001b[1;32melse\u001b[0m\u001b[1;33m:\u001b[0m\u001b[1;33m\u001b[0m\u001b[1;33m\u001b[0m\u001b[0m\n\u001b[1;32m---> 10\u001b[1;33m     \u001b[0mprint\u001b[0m\u001b[1;33m(\u001b[0m\u001b[0mFALSE\u001b[0m\u001b[1;33m)\u001b[0m\u001b[1;33m\u001b[0m\u001b[1;33m\u001b[0m\u001b[0m\n\u001b[0m",
      "\u001b[1;31mNameError\u001b[0m: name 'FALSE' is not defined"
     ]
    }
   ],
   "source": [
    "#if shart operatori bilan birga foydalangan holatda\n",
    "\n",
    "a = 200\n",
    "b = 33\n",
    "\n",
    "if b > a:\n",
    "    print(\"bning qiymati adan kattaroq\")\n",
    "\n",
    "else:\n",
    "    print(\"bning qiymati adan katta emas\")"
   ]
  },
  {
   "cell_type": "code",
   "execution_count": 156,
   "metadata": {},
   "outputs": [
    {
     "name": "stdout",
     "output_type": "stream",
     "text": [
      "bning qiymati adan kattaroq\n"
     ]
    }
   ],
   "source": [
    "#if shart operatori bilan birga foydalangan holatda\n",
    "\n",
    "a = 200\n",
    "b = 400\n",
    "\n",
    "if b > a:\n",
    "    print(\"bning qiymati adan kattaroq\")\n",
    "\n",
    "else:\n",
    "    print(\"bning qiymati adan katta emas\")"
   ]
  },
  {
   "cell_type": "code",
   "execution_count": 157,
   "metadata": {},
   "outputs": [
    {
     "name": "stdout",
     "output_type": "stream",
     "text": [
      "True\n",
      "True\n"
     ]
    }
   ],
   "source": [
    "#bool kalit so'zi yordamida berilgan ifoda to'g'ri yoki noto'g'ri ekanini tekshirish mumkin\n",
    "\n",
    "print(bool(\"Hello\"))\n",
    "print(bool(15))"
   ]
  },
  {
   "cell_type": "code",
   "execution_count": 158,
   "metadata": {},
   "outputs": [
    {
     "data": {
      "text/plain": [
       "True"
      ]
     },
     "execution_count": 158,
     "metadata": {},
     "output_type": "execute_result"
    }
   ],
   "source": [
    "bool(\"abc\")\n",
    "bool(123)\n",
    "bool([\"apple\", \"cherry\", \"banana\"])\n"
   ]
  },
  {
   "cell_type": "code",
   "execution_count": 159,
   "metadata": {},
   "outputs": [
    {
     "data": {
      "text/plain": [
       "False"
      ]
     },
     "execution_count": 159,
     "metadata": {},
     "output_type": "execute_result"
    }
   ],
   "source": [
    "bool(False)\n",
    "bool(None)\n",
    "bool(0)\n",
    "bool(\"\")\n",
    "bool(())\n",
    "bool([])\n",
    "bool({})"
   ]
  },
  {
   "cell_type": "code",
   "execution_count": null,
   "metadata": {},
   "outputs": [],
   "source": []
  },
  {
   "cell_type": "code",
   "execution_count": null,
   "metadata": {},
   "outputs": [],
   "source": []
  },
  {
   "cell_type": "markdown",
   "metadata": {},
   "source": [
    "# Operatorlar - operators"
   ]
  },
  {
   "cell_type": "markdown",
   "metadata": {},
   "source": [
    "## Arifmetik operatorlar"
   ]
  },
  {
   "cell_type": "markdown",
   "metadata": {},
   "source": [
    "Operator     \tNomi\t    Misol\n",
    "\n",
    "  +\t          Qo'shish\t    x + y\n",
    "  \n",
    "  -\t        Ayirish\t        x - y\n",
    "  \n",
    "  *\t       Ko'paytirish     x * y\n",
    "  \n",
    "  /\t         Bo'lish\t    x / y\t\n",
    "  \n",
    "  %\t       Qoldiqni topish  x % y\n",
    "  \n",
    "  **\t   Darajaga kutarish x ** y\t\n",
    "  \n",
    "  //\t   Bo'lish va butunini olish   \tx // y"
   ]
  },
  {
   "cell_type": "code",
   "execution_count": 160,
   "metadata": {},
   "outputs": [
    {
     "name": "stdout",
     "output_type": "stream",
     "text": [
      "8\n"
     ]
    }
   ],
   "source": [
    "x = 5\n",
    "y = 3 \n",
    "\n",
    "print(x + y)"
   ]
  },
  {
   "cell_type": "code",
   "execution_count": 161,
   "metadata": {},
   "outputs": [
    {
     "name": "stdout",
     "output_type": "stream",
     "text": [
      "2\n"
     ]
    }
   ],
   "source": [
    "x = 5\n",
    "y = 3 \n",
    "\n",
    "print(x - y)"
   ]
  },
  {
   "cell_type": "code",
   "execution_count": 162,
   "metadata": {},
   "outputs": [
    {
     "name": "stdout",
     "output_type": "stream",
     "text": [
      "15\n"
     ]
    }
   ],
   "source": [
    "x = 5\n",
    "y = 3\n",
    "\n",
    "print(x * y)"
   ]
  },
  {
   "cell_type": "code",
   "execution_count": 163,
   "metadata": {},
   "outputs": [
    {
     "name": "stdout",
     "output_type": "stream",
     "text": [
      "4.0\n"
     ]
    }
   ],
   "source": [
    "x = 12\n",
    "y = 3\n",
    "\n",
    "print(x / y)"
   ]
  },
  {
   "cell_type": "code",
   "execution_count": 164,
   "metadata": {},
   "outputs": [
    {
     "name": "stdout",
     "output_type": "stream",
     "text": [
      "1\n"
     ]
    }
   ],
   "source": [
    "x = 5\n",
    "y = 2\n",
    "\n",
    "print(x % y)"
   ]
  },
  {
   "cell_type": "code",
   "execution_count": 165,
   "metadata": {},
   "outputs": [
    {
     "name": "stdout",
     "output_type": "stream",
     "text": [
      "32\n"
     ]
    }
   ],
   "source": [
    "x = 2\n",
    "y = 5\n",
    "\n",
    "print(x ** y) #same as 2*2*2*2*2"
   ]
  },
  {
   "cell_type": "code",
   "execution_count": 166,
   "metadata": {},
   "outputs": [
    {
     "name": "stdout",
     "output_type": "stream",
     "text": [
      "7\n"
     ]
    }
   ],
   "source": [
    "x = 15\n",
    "y = 2\n",
    "\n",
    "print(x // y)\n",
    "\n",
    "#the floor division // rounds the result down to the nearest whole number"
   ]
  },
  {
   "cell_type": "markdown",
   "metadata": {},
   "source": [
    "## Belgilash kiritish operatorlari"
   ]
  },
  {
   "cell_type": "code",
   "execution_count": 167,
   "metadata": {},
   "outputs": [
    {
     "name": "stdout",
     "output_type": "stream",
     "text": [
      "5\n"
     ]
    }
   ],
   "source": [
    "# =    x = 5     x = 5\n",
    "\n",
    "x = 5\n",
    "\n",
    "print(x)"
   ]
  },
  {
   "cell_type": "code",
   "execution_count": 168,
   "metadata": {},
   "outputs": [
    {
     "name": "stdout",
     "output_type": "stream",
     "text": [
      "8\n"
     ]
    }
   ],
   "source": [
    "#+=    x += 3   x = x + 3\n",
    "\n",
    "x = 5\n",
    "\n",
    "x += 3  # x = x + 3\n",
    "\n",
    "print(x)"
   ]
  },
  {
   "cell_type": "code",
   "execution_count": 169,
   "metadata": {},
   "outputs": [
    {
     "name": "stdout",
     "output_type": "stream",
     "text": [
      "2\n"
     ]
    }
   ],
   "source": [
    "x = 5\n",
    "\n",
    "x -= 3  #x = x - 3\n",
    "\n",
    "print(x)"
   ]
  },
  {
   "cell_type": "code",
   "execution_count": 170,
   "metadata": {},
   "outputs": [
    {
     "name": "stdout",
     "output_type": "stream",
     "text": [
      "15\n"
     ]
    }
   ],
   "source": [
    "x = 5\n",
    "\n",
    "x *= 3 #x = x * 3\n",
    "\n",
    "print(x)\n"
   ]
  },
  {
   "cell_type": "code",
   "execution_count": 171,
   "metadata": {},
   "outputs": [
    {
     "name": "stdout",
     "output_type": "stream",
     "text": [
      "1.6666666666666667\n"
     ]
    }
   ],
   "source": [
    "x = 5\n",
    "\n",
    "x /= 3   # x = x / 3\n",
    "\n",
    "print(x)"
   ]
  },
  {
   "cell_type": "code",
   "execution_count": 172,
   "metadata": {},
   "outputs": [
    {
     "name": "stdout",
     "output_type": "stream",
     "text": [
      "2\n"
     ]
    }
   ],
   "source": [
    "x = 5\n",
    "\n",
    "x%=3 #x = x % 3\n",
    "\n",
    "print(x)"
   ]
  },
  {
   "cell_type": "code",
   "execution_count": 173,
   "metadata": {},
   "outputs": [
    {
     "name": "stdout",
     "output_type": "stream",
     "text": [
      "1\n"
     ]
    }
   ],
   "source": [
    "x = 5\n",
    "\n",
    "x//=3  #x = x // 3\n",
    "\n",
    "print(x)"
   ]
  },
  {
   "cell_type": "code",
   "execution_count": 174,
   "metadata": {},
   "outputs": [
    {
     "name": "stdout",
     "output_type": "stream",
     "text": [
      "125\n"
     ]
    }
   ],
   "source": [
    "x = 5\n",
    "\n",
    "x **= 3 # x = x ** 3\t\n",
    "\n",
    "print(x)"
   ]
  },
  {
   "cell_type": "markdown",
   "metadata": {},
   "source": [
    "#- Solishtirish Operatorlari"
   ]
  },
  {
   "cell_type": "markdown",
   "metadata": {},
   "source": [
    "  Operator\t         Nomi     \t     Misol\t\n",
    "    ==\t           Tenglik\t         x == y\t\n",
    "    =\t           Teng Emas\t     x != y\t\n",
    "    >\t            Katta\t         x > y\t\n",
    "    <\t            Kichik\t         x < y\t\n",
    "    >=\t        Katta yoki teng\t     x >= y\t\n",
    "    <=\t        Kichik yoki teng\t x <= y"
   ]
  },
  {
   "cell_type": "code",
   "execution_count": 183,
   "metadata": {},
   "outputs": [
    {
     "name": "stdout",
     "output_type": "stream",
     "text": [
      "False\n"
     ]
    }
   ],
   "source": [
    "# Tenglik operatori\n",
    "x = 5\n",
    "y = 3\n",
    "\n",
    "print(x == y)\n",
    "# returns False because 5 is not equal to 3"
   ]
  },
  {
   "cell_type": "code",
   "execution_count": 184,
   "metadata": {},
   "outputs": [
    {
     "name": "stdout",
     "output_type": "stream",
     "text": [
      "True\n"
     ]
    }
   ],
   "source": [
    "#Teng Emas operatori\n",
    "x = 5\n",
    "y = 3\n",
    "\n",
    "print(x != y)\n",
    "\n",
    "# returns True because 5 is not equal to 3\n"
   ]
  },
  {
   "cell_type": "code",
   "execution_count": 185,
   "metadata": {},
   "outputs": [
    {
     "name": "stdout",
     "output_type": "stream",
     "text": [
      "True\n"
     ]
    }
   ],
   "source": [
    "#Katta operatori\n",
    "\n",
    "x = 5\n",
    "y = 3\n",
    "\n",
    "print(x > y)"
   ]
  },
  {
   "cell_type": "code",
   "execution_count": 186,
   "metadata": {},
   "outputs": [
    {
     "name": "stdout",
     "output_type": "stream",
     "text": [
      "False\n"
     ]
    }
   ],
   "source": [
    "#Kichik operatori\n",
    "\n",
    "x = 5\n",
    "y = 3\n",
    "\n",
    "print(x < y)"
   ]
  },
  {
   "cell_type": "code",
   "execution_count": 187,
   "metadata": {},
   "outputs": [
    {
     "name": "stdout",
     "output_type": "stream",
     "text": [
      "True\n"
     ]
    }
   ],
   "source": [
    "#Katta yoki teng operatori\n",
    "x = 5\n",
    "y = 3\n",
    "\n",
    "print(x >= y)"
   ]
  },
  {
   "cell_type": "code",
   "execution_count": 188,
   "metadata": {},
   "outputs": [
    {
     "name": "stdout",
     "output_type": "stream",
     "text": [
      "False\n"
     ]
    }
   ],
   "source": [
    "#Kichik yoki teng operatori\n",
    "x = 5\n",
    "y = 3\n",
    "\n",
    "print(x <= y)\n"
   ]
  },
  {
   "cell_type": "markdown",
   "metadata": {},
   "source": [
    "## Logik Operatorlar"
   ]
  },
  {
   "cell_type": "code",
   "execution_count": 192,
   "metadata": {},
   "outputs": [
    {
     "name": "stdout",
     "output_type": "stream",
     "text": [
      "True\n",
      "True\n",
      "False\n"
     ]
    }
   ],
   "source": [
    "#Python dasturlash tilida 3 xil operatorlar mavjud:\n",
    "\n",
    "#AND agar ikkita berilgan shartlar ham tog'ri bo'lgandagini TRUE qiymat qaytaradi\n",
    "\n",
    "x = 5\n",
    "\n",
    "print(x > 3 and x < 10)\n",
    "\n",
    "#OR Ikkita berilgan shartlardan faqat yo unisi yoki bunisi bajarilsa ham true qiymat qaytaradi\n",
    "\n",
    "x = 5\n",
    "\n",
    "print(x > 3 or x < 4)\n",
    "\n",
    "#NOT Natijani teskarisiga o'zgartirib beradi, natija true bo'lganda falsega o'zgaradi\n",
    "\n",
    "x = 5\n",
    "\n",
    "print(not(x > 3 and x < 10))"
   ]
  },
  {
   "cell_type": "markdown",
   "metadata": {},
   "source": [
    "## Identifikatsiya operatorlari"
   ]
  },
  {
   "cell_type": "code",
   "execution_count": null,
   "metadata": {},
   "outputs": [],
   "source": [
    "#obyektlarni solishtirish uchun ishlatiladi, tengligini emas bir xil obyekt ekanligini xotiradan bir xil \n",
    "#xotira yacheykasida joylashgan joylashmaganini tekshiradi"
   ]
  },
  {
   "cell_type": "code",
   "execution_count": 196,
   "metadata": {},
   "outputs": [
    {
     "name": "stdout",
     "output_type": "stream",
     "text": [
      "True\n",
      "False\n",
      "True\n"
     ]
    }
   ],
   "source": [
    "#is operatori agar xotira yacheykasida joylashgan obektlar bir xil bo'lsa TRUE qiymat qaytariladi\n",
    "\n",
    "x = [\"olma\", \"banan\"]\n",
    "y = [\"olma\", \"banan\"]\n",
    "z = x\n",
    "\n",
    "print(x is z)  #True natija qaytariladi sababi z bilan x bir xil obyekt\n",
    "\n",
    "print(x is y) # False natija qaytariladi sababi xotirada x bilan y bir xil obyektlar emas\n",
    "\n",
    "print( x== y) # \"is\" va == bir xil ifoda emasligini tekshirish uchun x y ga teng qiymatlari mavjudligi uchun TRUE qiymat qaytariladi"
   ]
  },
  {
   "cell_type": "code",
   "execution_count": 197,
   "metadata": {},
   "outputs": [
    {
     "name": "stdout",
     "output_type": "stream",
     "text": [
      "False\n",
      "True\n",
      "False\n"
     ]
    }
   ],
   "source": [
    "#is not operatori True natija qaytariladi agar ikkita obyekt har xil obyekt bo'lsa\n",
    "\n",
    "x = [\"olma\", \"banan\"]\n",
    "y = [\"olma\", \"banan\"]\n",
    "z = x\n",
    "\n",
    "print(x is not z) # False natija qaytariladi sababi z bilan x bir xil obyekt\n",
    "\n",
    "\n",
    "print(x is not y)  # True natija qaytariladi sababi x bilan y bir xil obyekt emas, hattoki ichidagi qiymatlar bir xil bo'lsa ham\n",
    "\n",
    "\n",
    "print(x !=y) #\"is not\" va \"!=\" ifodalarini solishtirish uchun, bu xatolik qaytaradi sababi x qiymatlari y bilan teng \n"
   ]
  },
  {
   "cell_type": "markdown",
   "metadata": {},
   "source": [
    "# Ro'yhatlar - Lists"
   ]
  },
  {
   "cell_type": "code",
   "execution_count": 198,
   "metadata": {},
   "outputs": [],
   "source": [
    "#Listlar bu bitta o'zgaruvchiga ko'p qiymatlarni saqlash uchun ishlatiladi.\n",
    "# Pythonda ko'p qiymatlarni bitta o'zgaruvchiga saqlash uchun ishlatiladigan 4 ta turdagi built-in ma'lumotlar turlari \n",
    "# metodlar bor: bular Tuple, Set, Dictionary"
   ]
  },
  {
   "cell_type": "code",
   "execution_count": 199,
   "metadata": {},
   "outputs": [
    {
     "name": "stdout",
     "output_type": "stream",
     "text": [
      "['olma', 'banan', 'apelsin']\n"
     ]
    }
   ],
   "source": [
    "#Listlar [] to'rtburchak qavslar yordamida yaratiladi\n",
    "\n",
    "meva_list = [\"olma\", \"banan\", \"apelsin\"]\n",
    "print(meva_list)"
   ]
  },
  {
   "cell_type": "code",
   "execution_count": 200,
   "metadata": {},
   "outputs": [],
   "source": [
    "# Listlar tartiblangan, o'zgarishi mumkin bo'lgan, va takroriy qiymatlarni qabul qila oladigan qiymatlardir\n",
    "# Listlar indekslangan, birinchi qiymatda [0], ikkinchi qiymat indeksi [1] shaklida. "
   ]
  },
  {
   "cell_type": "markdown",
   "metadata": {},
   "source": [
    "## Ordered- tartiblangan ketma-ketlik"
   ]
  },
  {
   "cell_type": "code",
   "execution_count": 202,
   "metadata": {},
   "outputs": [],
   "source": [
    "# Listlarda qiymatlar tartiblangan holda bo'ladi, har bir qiymatni o'z o'rni mavjud, \n",
    "# agar listga yangi qiymat qo'shiladigan bo'lsa list oxiridan qiymat qo'shiladi. "
   ]
  },
  {
   "cell_type": "code",
   "execution_count": 203,
   "metadata": {},
   "outputs": [],
   "source": [
    "# Listlar o'zgaruvchan ma'nosi ro'yhatlardagi qiymatlarni o'zgartirishimiz, qo'shishimiz, o'chirishimiz mumkin. "
   ]
  },
  {
   "cell_type": "code",
   "execution_count": 204,
   "metadata": {},
   "outputs": [
    {
     "name": "stdout",
     "output_type": "stream",
     "text": [
      "['olma', 'banan', 'apelsin', 'olma', 'apelsin']\n"
     ]
    }
   ],
   "source": [
    "#Listlarda bir qancha qiymatlar qayta qayta yozilishi mumkin \n",
    "\n",
    "meva_list =  [\"olma\", \"banan\", \"apelsin\", \"olma\", \"apelsin\"]\n",
    "print(meva_list)"
   ]
  },
  {
   "cell_type": "code",
   "execution_count": 205,
   "metadata": {},
   "outputs": [
    {
     "name": "stdout",
     "output_type": "stream",
     "text": [
      "5\n"
     ]
    }
   ],
   "source": [
    "#len() ro'yhat uzunligini aniqlash\n",
    "\n",
    "print(len(meva_list))"
   ]
  },
  {
   "cell_type": "code",
   "execution_count": 207,
   "metadata": {},
   "outputs": [
    {
     "name": "stdout",
     "output_type": "stream",
     "text": [
      "<class 'list'>\n",
      "<class 'list'>\n",
      "<class 'list'>\n"
     ]
    }
   ],
   "source": [
    "#Ro'yhatlar o'z ichiga turli tipdagi ma'lumotlar turlarini oladi\n",
    "\n",
    "\n",
    "\n",
    "list1 = [\"olma\", \"banan\", \"apelsin\"]\n",
    "\n",
    "list2 = [1, 5, 7, 9, 3]\n",
    "\n",
    "list3 = [True, False, False]\n",
    "\n",
    "# type() yordamida qaysi turdagi malumot ekanligini aniqlash mumkin\n",
    "\n",
    "print(type(list1))\n",
    "print(type(list2))\n",
    "print(type(list3))"
   ]
  },
  {
   "cell_type": "code",
   "execution_count": 2,
   "metadata": {},
   "outputs": [
    {
     "name": "stdout",
     "output_type": "stream",
     "text": [
      "['abc', 34, True, 40, 'male']\n",
      "<class 'list'>\n"
     ]
    }
   ],
   "source": [
    "#Yoki bitta list ichida turlicha ma'lumotlar turlari bo'lishi mumkin\n",
    "\n",
    "list1 = [\"abc\", 34, True, 40, \"male\"]\n",
    "\n",
    "print(list1)\n",
    "\n",
    "print(type(list1))"
   ]
  },
  {
   "cell_type": "code",
   "execution_count": 1,
   "metadata": {},
   "outputs": [
    {
     "name": "stdout",
     "output_type": "stream",
     "text": [
      "<class 'list'>\n"
     ]
    }
   ],
   "source": [
    "#type() methodi orqali listni ham data typelarini tekshirishimiz mumkin\n",
    "\n",
    "mylist = [\"olma\", \"banan\", \"o'rik\"]\n",
    "\n",
    "print(type(mylist))"
   ]
  },
  {
   "cell_type": "code",
   "execution_count": 3,
   "metadata": {},
   "outputs": [
    {
     "name": "stdout",
     "output_type": "stream",
     "text": [
      "['olma', 'banan', \"o'rik\"]\n"
     ]
    }
   ],
   "source": [
    "#list() constuktori \n",
    "\n",
    "bu_list = list((\"olma\", \"banan\", \"o'rik\"))\n",
    "print(bu_list)"
   ]
  },
  {
   "cell_type": "code",
   "execution_count": 6,
   "metadata": {},
   "outputs": [
    {
     "name": "stdout",
     "output_type": "stream",
     "text": [
      "['olma', 'banan', \"o'rik\"]\n"
     ]
    }
   ],
   "source": [
    "a = (\"olma\", \"banan\", \"o'rik\")\n",
    "list1 = list(a)\n",
    "print(list1)"
   ]
  },
  {
   "cell_type": "markdown",
   "metadata": {},
   "source": [
    "## List qiymatlariga murojaat qilish "
   ]
  },
  {
   "cell_type": "code",
   "execution_count": 12,
   "metadata": {},
   "outputs": [
    {
     "name": "stdout",
     "output_type": "stream",
     "text": [
      "olma\n",
      "banan\n",
      "o'rik\n"
     ]
    }
   ],
   "source": [
    "meva_list = [\"olma\", \"banan\", \"o'rik\"]  #birinchi qiymat indeks 0 da joylashgan\n",
    "\n",
    "print(meva_list[0])\n",
    "print(meva_list[1])\n",
    "print(meva_list[2])\n"
   ]
  },
  {
   "cell_type": "code",
   "execution_count": 14,
   "metadata": {},
   "outputs": [
    {
     "name": "stdout",
     "output_type": "stream",
     "text": [
      "o'rik\n",
      "banan\n",
      "olma\n"
     ]
    }
   ],
   "source": [
    "#Negative indekslash \n",
    "\n",
    "meva_list = [\"olma\", \"banan\", \"o'rik\"]\n",
    "print(meva_list[-1])\n",
    "print(meva_list[-2])\n",
    "print(meva_list[-3])"
   ]
  },
  {
   "cell_type": "code",
   "execution_count": 15,
   "metadata": {},
   "outputs": [
    {
     "name": "stdout",
     "output_type": "stream",
     "text": [
      "[\"o'rik\", 'limon', 'olcha']\n"
     ]
    }
   ],
   "source": [
    "#miqdoriy indekslash \n",
    "\n",
    "meva_list = [\"olma\", \"banan\", \"o'rik\", \"limon\", \"olcha\", \"ananas\"]\n",
    "\n",
    "print(meva_list[2:5]) # [2 5) 2 qiymat qabul qilinadi natijaga 5 qiymat esa olinmaydi. \n"
   ]
  },
  {
   "cell_type": "code",
   "execution_count": 16,
   "metadata": {},
   "outputs": [
    {
     "name": "stdout",
     "output_type": "stream",
     "text": [
      "[\"o'rik\", 'limon', 'olcha', 'ananas']\n"
     ]
    }
   ],
   "source": [
    "#miqdoriy indekslash \n",
    "\n",
    "meva_list = [\"olma\", \"banan\", \"o'rik\", \"limon\", \"olcha\", \"ananas\"]\n",
    "\n",
    "print(meva_list[2:]) # [2: 2 qiymatdan list oxirigacha "
   ]
  },
  {
   "cell_type": "markdown",
   "metadata": {},
   "source": [
    "## List qiymatlarini o'zgartirish"
   ]
  },
  {
   "cell_type": "code",
   "execution_count": 17,
   "metadata": {},
   "outputs": [
    {
     "name": "stdout",
     "output_type": "stream",
     "text": [
      "['olma', 'tarvuz', \"o'rik\"]\n"
     ]
    }
   ],
   "source": [
    "# 1 o'rinda turgan mevani tarvuzga o'zgartirish\n",
    "meva_list = [\"olma\", \"banan\", \"o'rik\"]\n",
    "\n",
    "meva_list[1] = \"tarvuz\"\n",
    "\n",
    "print(meva_list)"
   ]
  },
  {
   "cell_type": "code",
   "execution_count": 18,
   "metadata": {},
   "outputs": [
    {
     "name": "stdout",
     "output_type": "stream",
     "text": [
      "['olma', 'tarvuz', 'olcha', 'apelsin', 'kiwi', 'mango']\n"
     ]
    }
   ],
   "source": [
    "# ikkita qiymatni birdan o'zgartirish\n",
    "\n",
    "meva_list = [\"olma\", \"banan\", \"o'rik\", \"apelsin\", \"kiwi\", \"mango\"]\n",
    "\n",
    "meva_list[1:3] = [\"tarvuz\", \"olcha\"]\n",
    "\n",
    "print(meva_list)"
   ]
  },
  {
   "cell_type": "code",
   "execution_count": 20,
   "metadata": {},
   "outputs": [
    {
     "name": "stdout",
     "output_type": "stream",
     "text": [
      "['olma', 'tarvuz', 'olcha', \"o'rik\"]\n"
     ]
    }
   ],
   "source": [
    "# bitta qiymat o'rniga ikkita qiymat yozish  banan => tarvuz, olcha\n",
    "\n",
    "meva_list = [\"olma\", \"banan\", \"o'rik\"]\n",
    "\n",
    "meva_list[1:2] = [\"tarvuz\", \"olcha\"]\n",
    "\n",
    "print(meva_list)"
   ]
  },
  {
   "cell_type": "code",
   "execution_count": 21,
   "metadata": {},
   "outputs": [
    {
     "name": "stdout",
     "output_type": "stream",
     "text": [
      "['olma', 'tarvuz']\n"
     ]
    }
   ],
   "source": [
    "#ikkita qiymat o'rniga bitta qiymatni yozish\n",
    "\n",
    "meva_list = [\"olma\", \"banan\", \"o'rik\"]\n",
    "\n",
    "meva_list[1:3] = [\"tarvuz\"]\n",
    "\n",
    "print(meva_list)"
   ]
  },
  {
   "cell_type": "code",
   "execution_count": 22,
   "metadata": {},
   "outputs": [
    {
     "name": "stdout",
     "output_type": "stream",
     "text": [
      "['olma', 'banan', 'tarvuz', \"o'rik\"]\n"
     ]
    }
   ],
   "source": [
    "# insert() methodi\n",
    "\n",
    "\n",
    "meva_list = [\"olma\", \"banan\", \"o'rik\"]\n",
    "\n",
    "meva_list.insert(2,\"tarvuz\")\n",
    "\n",
    "print(meva_list)"
   ]
  },
  {
   "cell_type": "markdown",
   "metadata": {},
   "source": [
    "## Listga qiymatlar qo'shish"
   ]
  },
  {
   "cell_type": "code",
   "execution_count": 23,
   "metadata": {},
   "outputs": [
    {
     "name": "stdout",
     "output_type": "stream",
     "text": [
      "['olma', 'banan', \"o'rik\", 'olcha']\n"
     ]
    }
   ],
   "source": [
    "# append() methodi yordamida\n",
    "\n",
    "meva_list = [\"olma\", \"banan\", \"o'rik\"]\n",
    "\n",
    "meva_list.append(\"olcha\")\n",
    "\n",
    "print(meva_list)"
   ]
  },
  {
   "cell_type": "code",
   "execution_count": 25,
   "metadata": {},
   "outputs": [
    {
     "name": "stdout",
     "output_type": "stream",
     "text": [
      "['olma', 'tarvuz', 'banan', \"o'rik\"]\n"
     ]
    }
   ],
   "source": [
    "#insert() yordamida aniq bir indeksga ma'lumot qo'shish mumkin\n",
    "\n",
    "meva_list = [\"olma\", \"banan\", \"o'rik\"]\n",
    "\n",
    "meva_list.insert(1,\"tarvuz\")\n",
    "\n",
    "print(meva_list)"
   ]
  },
  {
   "cell_type": "code",
   "execution_count": 27,
   "metadata": {},
   "outputs": [
    {
     "name": "stdout",
     "output_type": "stream",
     "text": [
      "['olma', 'olcha', \"o'rik\", 'mango', 'banan', 'ananas']\n"
     ]
    }
   ],
   "source": [
    "#extend methodi \n",
    "\n",
    "meva_list = [\"olma\", \"olcha\", \"o'rik\"]\n",
    "\n",
    "tropik_meva = [\"mango\", \"banan\", \"ananas\"]\n",
    "\n",
    "meva_list.extend(tropik_meva)\n",
    "\n",
    "print(meva_list)"
   ]
  },
  {
   "cell_type": "code",
   "execution_count": 30,
   "metadata": {},
   "outputs": [
    {
     "name": "stdout",
     "output_type": "stream",
     "text": [
      "['olma', 'banan', \"o'rik\", 'mango', 'nok']\n"
     ]
    }
   ],
   "source": [
    "# extend() methodi faqatgina listlarni emas tuplelarni, setlarni, dictionarielarni ham \n",
    "#listlarga qo'shib bera oladi\n",
    "\n",
    "meva_list = [\"olma\", \"banan\", \"o'rik\"]\n",
    "\n",
    "meva_tuple = (\"mango\", \"nok\")\n",
    "\n",
    "meva_list.extend(meva_tuple)\n",
    "\n",
    "print(meva_list)\n"
   ]
  },
  {
   "cell_type": "markdown",
   "metadata": {},
   "source": [
    "## Listdan qiymatlarni o'chirish"
   ]
  },
  {
   "cell_type": "code",
   "execution_count": 31,
   "metadata": {},
   "outputs": [
    {
     "name": "stdout",
     "output_type": "stream",
     "text": [
      "['olma', \"o'rik\"]\n"
     ]
    }
   ],
   "source": [
    "# remove() methodi orqali qiymat nomi bilan qiymatni listdan o'chirish mumkin\n",
    "\n",
    "meva_list = [\"olma\", \"banan\", \"o'rik\"]\n",
    "\n",
    "meva_list.remove(\"banan\")\n",
    "\n",
    "print(meva_list)"
   ]
  },
  {
   "cell_type": "code",
   "execution_count": 32,
   "metadata": {},
   "outputs": [
    {
     "name": "stdout",
     "output_type": "stream",
     "text": [
      "['olma', \"o'rik\"]\n"
     ]
    }
   ],
   "source": [
    "#pop() methodi orqali aniq bir indeksda joylashgan qiymatni o'chirishimiz mumkin\n",
    "\n",
    "\n",
    "meva_list = [\"olma\", \"banan\", \"o'rik\"]\n",
    "\n",
    "meva_list.pop(1)\n",
    "\n",
    "print(meva_list)"
   ]
  },
  {
   "cell_type": "code",
   "execution_count": 33,
   "metadata": {},
   "outputs": [
    {
     "name": "stdout",
     "output_type": "stream",
     "text": [
      "['olma', 'banan']\n"
     ]
    }
   ],
   "source": [
    "#agar pop() methodida indeks e'lon qilinmasa oxirida turgan qiymat o'chiriladi\n",
    "\n",
    "meva_list = [\"olma\", \"banan\", \"o'rik\"]\n",
    "\n",
    "meva_list.pop()\n",
    "\n",
    "print(meva_list)"
   ]
  },
  {
   "cell_type": "code",
   "execution_count": 34,
   "metadata": {},
   "outputs": [
    {
     "name": "stdout",
     "output_type": "stream",
     "text": [
      "['banan', \"o'rik\"]\n"
     ]
    }
   ],
   "source": [
    "# del kalit so'zi yordamida o'chirish\n",
    "\n",
    "meva_list = [\"olma\", \"banan\", \"o'rik\"]\n",
    "\n",
    "del meva_list[0]\n",
    "\n",
    "print(meva_list)"
   ]
  },
  {
   "cell_type": "code",
   "execution_count": 36,
   "metadata": {},
   "outputs": [
    {
     "ename": "NameError",
     "evalue": "name 'meva_list' is not defined",
     "output_type": "error",
     "traceback": [
      "\u001b[1;31m---------------------------------------------------------------------------\u001b[0m",
      "\u001b[1;31mNameError\u001b[0m                                 Traceback (most recent call last)",
      "\u001b[1;32m<ipython-input-36-c7632d9b0176>\u001b[0m in \u001b[0;36m<module>\u001b[1;34m\u001b[0m\n\u001b[0;32m      5\u001b[0m \u001b[1;32mdel\u001b[0m \u001b[0mmeva_list\u001b[0m\u001b[1;33m\u001b[0m\u001b[1;33m\u001b[0m\u001b[0m\n\u001b[0;32m      6\u001b[0m \u001b[1;33m\u001b[0m\u001b[0m\n\u001b[1;32m----> 7\u001b[1;33m \u001b[0mprint\u001b[0m\u001b[1;33m(\u001b[0m\u001b[0mmeva_list\u001b[0m\u001b[1;33m)\u001b[0m\u001b[1;33m\u001b[0m\u001b[1;33m\u001b[0m\u001b[0m\n\u001b[0m",
      "\u001b[1;31mNameError\u001b[0m: name 'meva_list' is not defined"
     ]
    }
   ],
   "source": [
    "# butun listni o'chirib yuborish \n",
    "\n",
    "meva_list = [\"olma\", \"banan\", \"o'rik\"]\n",
    "\n",
    "del meva_list\n",
    "\n",
    "print(meva_list)"
   ]
  },
  {
   "cell_type": "code",
   "execution_count": 37,
   "metadata": {},
   "outputs": [
    {
     "name": "stdout",
     "output_type": "stream",
     "text": [
      "[]\n"
     ]
    }
   ],
   "source": [
    "#clear methodida foydalanish, list mavjudligicha qolaveradi lekin qiymatlari bo'lmaydi\n",
    "\n",
    "meva_list = [\"olma\", \"banan\", \"o'rik\"]\n",
    "\n",
    "meva_list.clear()\n",
    "\n",
    "print(meva_list)"
   ]
  },
  {
   "cell_type": "markdown",
   "metadata": {},
   "source": [
    "## List comprehension "
   ]
  },
  {
   "cell_type": "code",
   "execution_count": 40,
   "metadata": {},
   "outputs": [
    {
     "name": "stdout",
     "output_type": "stream",
     "text": [
      "['olma', 'banan', 'apelsin', 'mango']\n"
     ]
    }
   ],
   "source": [
    "#list comprehension mavjud listlar yordamida yangi listni hosil qilishga aytiladi\n",
    "#a harfini o'z ichiga olgan mevalarndan yangi list yaratish for statement yordamida\n",
    "\n",
    "mevalar = [\"olma\", \"banan\", \"o'rik\", \"apelsin\", \"kiwi\", \"mango\"]\n",
    "\n",
    "newlist = []\n",
    "\n",
    "for meva in mevalar:\n",
    "    if \"a\" in meva:\n",
    "        newlist.append(meva)\n",
    "        \n",
    "print(newlist)"
   ]
  },
  {
   "cell_type": "code",
   "execution_count": 42,
   "metadata": {},
   "outputs": [
    {
     "name": "stdout",
     "output_type": "stream",
     "text": [
      "['olma', 'banan', 'apelsin', 'mango']\n"
     ]
    }
   ],
   "source": [
    "\n",
    "mevalar = [\"olma\", \"banan\", \"o'rik\", \"apelsin\", \"kiwi\", \"mango\"]\n",
    "\n",
    "newlist = [meva for meva in mevalar if \"a\" in meva]\n",
    "\n",
    "print(newlist)\n",
    "\n"
   ]
  },
  {
   "cell_type": "markdown",
   "metadata": {},
   "source": [
    "## Lislarni saralash"
   ]
  },
  {
   "cell_type": "code",
   "execution_count": 45,
   "metadata": {},
   "outputs": [
    {
     "name": "stdout",
     "output_type": "stream",
     "text": [
      "['apelsin', 'banan', 'kiwi', 'mango', \"o'rik\", 'olma']\n"
     ]
    }
   ],
   "source": [
    "#sort() methodi yordamida listlarni harflarga ko'ra, sonlarni o'sish tartibiga ko'ra saralash mumkin\n",
    "\n",
    "mevalar = [\"olma\", \"banan\", \"o'rik\", \"apelsin\", \"kiwi\", \"mango\"]\n",
    "\n",
    "mevalar.sort()\n",
    "\n",
    "print(mevalar)"
   ]
  },
  {
   "cell_type": "code",
   "execution_count": 46,
   "metadata": {},
   "outputs": [
    {
     "name": "stdout",
     "output_type": "stream",
     "text": [
      "[0, 11, 12, 40, 65, 100]\n"
     ]
    }
   ],
   "source": [
    "# sonlarni o'sish tartibida saralash\n",
    "\n",
    "sonlar = [100, 40, 65, 12, 0, 11]\n",
    "\n",
    "sonlar.sort()\n",
    "\n",
    "print(sonlar)"
   ]
  },
  {
   "cell_type": "code",
   "execution_count": 47,
   "metadata": {},
   "outputs": [
    {
     "name": "stdout",
     "output_type": "stream",
     "text": [
      "['olma', \"o'rik\", 'mango', 'kiwi', 'banan', 'apelsin']\n"
     ]
    }
   ],
   "source": [
    "#harflarni teskari tartibda saralash\n",
    "\n",
    "mevalar = [\"olma\", \"banan\", \"o'rik\", \"apelsin\", \"kiwi\", \"mango\"]\n",
    "\n",
    "mevalar.sort(reverse = True)\n",
    "\n",
    "print(mevalar)"
   ]
  },
  {
   "cell_type": "code",
   "execution_count": 48,
   "metadata": {},
   "outputs": [
    {
     "name": "stdout",
     "output_type": "stream",
     "text": [
      "[100, 65, 40, 12, 11, 0]\n"
     ]
    }
   ],
   "source": [
    "# sonlarni kamayish tartibida saralash\n",
    "\n",
    "sonlar = [100, 40, 65, 12, 0, 11]\n",
    "\n",
    "sonlar.sort(reverse = True)\n",
    "\n",
    "print(sonlar)"
   ]
  },
  {
   "cell_type": "markdown",
   "metadata": {},
   "source": [
    "## Listlardan nusxa olish"
   ]
  },
  {
   "cell_type": "code",
   "execution_count": 50,
   "metadata": {},
   "outputs": [
    {
     "name": "stdout",
     "output_type": "stream",
     "text": [
      "['olma', 'banan', \"o'rik\"]\n"
     ]
    }
   ],
   "source": [
    "#copy() methodi yordamida listlardan nusxa olish mumkin\n",
    "\n",
    "mevalar = [\"olma\", \"banan\", \"o'rik\"]\n",
    "\n",
    "yangi_list = mevalar.copy()\n",
    "print(yangi_list)"
   ]
  },
  {
   "cell_type": "code",
   "execution_count": 51,
   "metadata": {},
   "outputs": [
    {
     "name": "stdout",
     "output_type": "stream",
     "text": [
      "['olma', 'banan', \"o'rik\"]\n"
     ]
    }
   ],
   "source": [
    "#list() method yordamida ham nusxasini yaratishimiz mumkin\n",
    "\n",
    "mevalar = [\"olma\", \"banan\", \"o'rik\"]\n",
    "\n",
    "new_list = list(mevalar)\n",
    "\n",
    "print(new_list)"
   ]
  },
  {
   "cell_type": "markdown",
   "metadata": {},
   "source": [
    "# Ikkita listni birlashtirish"
   ]
  },
  {
   "cell_type": "code",
   "execution_count": 52,
   "metadata": {},
   "outputs": [
    {
     "name": "stdout",
     "output_type": "stream",
     "text": [
      "['a', 'b', 'c', 1, 2, 3]\n"
     ]
    }
   ],
   "source": [
    "#+  operator yordamida ikkita listni birlashtirishimiz mumkin\n",
    "\n",
    "list1 = [\"a\", \"b\", \"c\"]\n",
    "list2 = [1, 2, 3]\n",
    "\n",
    "list3 = list1 + list2\n",
    "\n",
    "print(list3)"
   ]
  },
  {
   "cell_type": "code",
   "execution_count": 54,
   "metadata": {},
   "outputs": [
    {
     "name": "stdout",
     "output_type": "stream",
     "text": [
      "['a', 'b', 'c', 1, 2, 3]\n"
     ]
    }
   ],
   "source": [
    "# yoki listdagi qiymatlarni birma bir ikkinchi listga qo'shishni amalga oshirish mumkin\n",
    "\n",
    "list1 = [\"a\", \"b\", \"c\"]\n",
    "list2 = [1, 2, 3]\n",
    "\n",
    "for x in list2:\n",
    "    list1.append(x)\n",
    "    \n",
    "print(list1)"
   ]
  },
  {
   "cell_type": "code",
   "execution_count": 55,
   "metadata": {},
   "outputs": [
    {
     "name": "stdout",
     "output_type": "stream",
     "text": [
      "['a', 'b', 'c', 1, 2, 3]\n"
     ]
    }
   ],
   "source": [
    "# extend() method yordamida bir listdagi qiymatlarni ikkinchi qiymatga o'tkazish mumkin\n",
    "\n",
    "list1 = [\"a\", \"b\", \"c\"]\n",
    "list2 = [1, 2, 3]\n",
    "\n",
    "list1.extend(list2)\n",
    "    \n",
    "print(list1)\n"
   ]
  },
  {
   "cell_type": "markdown",
   "metadata": {},
   "source": [
    "# TUPLE\n"
   ]
  },
  {
   "cell_type": "code",
   "execution_count": 1,
   "metadata": {},
   "outputs": [],
   "source": [
    "# Tuple python dasturlash tilida ro'yhatlar bilan ishlashning biri turi bo'lib,\n",
    "# xuddi listga o'xshab ketadi lekin () qavs bilan e'lon qilinadi. \n",
    "\n",
    "# Tuple ham bitta o'zgaruvchiga turli qiymatlarni saqlashga yordam beradi. \n",
    "# Tuple Python dasturlash tilida qiymatlar jamlanmasini saqlaydigan bir built in data turidir. \n",
    "\n",
    "# Tuple ma'lumotlarning tartiblangan va o'zgartirib bo'lmaydigan bir turidir. \n"
   ]
  },
  {
   "cell_type": "code",
   "execution_count": 2,
   "metadata": {},
   "outputs": [
    {
     "name": "stdout",
     "output_type": "stream",
     "text": [
      "('olma', 'banan', 'gilos')\n"
     ]
    }
   ],
   "source": [
    "tuple1 = (\"olma\", \"banan\", \"gilos\")\n",
    "\n",
    "print(tuple1)"
   ]
  },
  {
   "cell_type": "code",
   "execution_count": 3,
   "metadata": {},
   "outputs": [],
   "source": [
    "# Tuple qiymatlari tartiblangan, o'zgarmas va takrorlanishi mumkin bo'lgan qiymatlardir. "
   ]
  },
  {
   "cell_type": "code",
   "execution_count": 4,
   "metadata": {},
   "outputs": [],
   "source": [
    "# Tartiblangan degani qiymatlar tartib bilan joylashgan va har birining o'z o'rni mavjud\n",
    "# va ketma-ketlik o'zgarmasdir\n",
    "\n"
   ]
  },
  {
   "cell_type": "code",
   "execution_count": 5,
   "metadata": {},
   "outputs": [],
   "source": [
    "#O'zgarmas degani tuple e'lon qilingandan so'ng qiymatlarni\n",
    "#o'zgartira olmaymiz: qo'sha olmaymiz yoki o'chira olmaymiz\n"
   ]
  },
  {
   "cell_type": "code",
   "execution_count": 6,
   "metadata": {},
   "outputs": [
    {
     "name": "stdout",
     "output_type": "stream",
     "text": [
      "('olma', 'banan', 'gilos', 'olma', 'banan', 'olcha')\n"
     ]
    }
   ],
   "source": [
    "#Takrorlanishi mumkin ma'nosi qiymatlari qayta qayta ishlatilishi mumkin\n",
    "\n",
    "tuple1 = (\"olma\", \"banan\", \"gilos\", \"olma\", \"banan\", \"olcha\")\n",
    "\n",
    "print(tuple1)"
   ]
  },
  {
   "cell_type": "code",
   "execution_count": 7,
   "metadata": {},
   "outputs": [
    {
     "name": "stdout",
     "output_type": "stream",
     "text": [
      "6\n"
     ]
    }
   ],
   "source": [
    "#len()\n",
    "\n",
    "tuple1 = (\"olma\", \"banan\", \"gilos\", \"olma\", \"banan\", \"olcha\")\n",
    "\n",
    "print(len(tuple1))"
   ]
  },
  {
   "cell_type": "code",
   "execution_count": 9,
   "metadata": {},
   "outputs": [
    {
     "name": "stdout",
     "output_type": "stream",
     "text": [
      "<class 'tuple'>\n",
      "<class 'str'>\n"
     ]
    }
   ],
   "source": [
    "# bir qiymatli tuple\n",
    "\n",
    "tuple2 = (\"olma\",)\n",
    "print(type(tuple2))\n",
    "\n",
    "tuple3 = (\"olma\")\n",
    "print(type(tuple3))"
   ]
  },
  {
   "cell_type": "code",
   "execution_count": 12,
   "metadata": {},
   "outputs": [
    {
     "name": "stdout",
     "output_type": "stream",
     "text": [
      "<class 'tuple'>\n",
      "<class 'tuple'>\n",
      "<class 'tuple'>\n"
     ]
    }
   ],
   "source": [
    "# data turlari tupleda\n",
    "\n",
    "tuple1 = (\"olma\", \"banan\", \"gilos\")\n",
    "tuple2 = (1, 5, 7, 9, 3)\n",
    "tuple3 = (True, False, False)\n",
    "\n",
    "print(type(tuple1))\n",
    "\n",
    "print(type(tuple2))\n",
    "\n",
    "print(type(tuple3))"
   ]
  },
  {
   "cell_type": "code",
   "execution_count": 13,
   "metadata": {},
   "outputs": [
    {
     "name": "stdout",
     "output_type": "stream",
     "text": [
      "('abc', 34, True, 40, 'male')\n"
     ]
    }
   ],
   "source": [
    "# turli tipdagi data turlari bilan \n",
    "\n",
    "tuple1 = (\"abc\", 34, True, 40, \"male\")\n",
    "print(tuple1)"
   ]
  },
  {
   "cell_type": "code",
   "execution_count": 17,
   "metadata": {},
   "outputs": [
    {
     "name": "stdout",
     "output_type": "stream",
     "text": [
      "34\n",
      "abc\n",
      "male\n"
     ]
    }
   ],
   "source": [
    "# tupleda indekslash\n",
    "\n",
    "tuple1 = (\"abc\", 34, True, 40, \"male\")\n",
    "print(tuple1[1])\n",
    "print(tuple1[0])\n",
    "print(tuple1[4])"
   ]
  },
  {
   "cell_type": "code",
   "execution_count": 24,
   "metadata": {},
   "outputs": [
    {
     "name": "stdout",
     "output_type": "stream",
     "text": [
      "male\n",
      "(True, 40, 'male')\n",
      "('abc', 34, True, 40)\n",
      "(34, True, 40)\n"
     ]
    }
   ],
   "source": [
    "#negativ indekslash\n",
    "\n",
    "tuple1 = (\"abc\", 34, True, 40, \"male\")\n",
    "\n",
    "print(tuple1[-1])\n",
    "print(tuple1[2:5])\n",
    "print(tuple1[:4])\n",
    "\n",
    "print(tuple1[-4:-1])\n"
   ]
  },
  {
   "cell_type": "code",
   "execution_count": 27,
   "metadata": {},
   "outputs": [
    {
     "name": "stdout",
     "output_type": "stream",
     "text": [
      "Yo'q, bu qiymat ro'yhatda mavjud emas\n"
     ]
    }
   ],
   "source": [
    "# Tupleda qaysidir qiymat mavjud yoki mavjud emasligini tekshirish\n",
    "\n",
    "tuple1 = (\"abc\", 34, True, 40, \"male\")\n",
    "\n",
    "if \"abc\" in tuple1:                       #abcni bir nechta qiymatlarga o'zgartirib ko'rish kerak\n",
    "    print(\"Ha, 'abc' qiymatlar ichida mavjud\")\n",
    "    \n",
    "else:\n",
    "    print(\"Yo'q, bu qiymat ro'yhatda mavjud emas\")"
   ]
  },
  {
   "cell_type": "markdown",
   "metadata": {},
   "source": [
    "## Tuplelarni yangilash\n"
   ]
  },
  {
   "cell_type": "code",
   "execution_count": 28,
   "metadata": {},
   "outputs": [],
   "source": [
    "#Tuple qiymatlarini o'zgartirib bo'lmaydi: qiymat o'zgartirish, qo'shish yoki o'chirish mumkin emas."
   ]
  },
  {
   "cell_type": "code",
   "execution_count": 30,
   "metadata": {},
   "outputs": [
    {
     "name": "stdout",
     "output_type": "stream",
     "text": [
      "('ananas', 'banan', 'gilos')\n"
     ]
    }
   ],
   "source": [
    "#lekin boshqa usuldan foydalansa bo'ladi \n",
    "\n",
    "#tupleni => listga o'zgartirish;\n",
    "#listda o'zgarishlarni amalga oshirish;\n",
    "#listni => tuplega qaytarish\n",
    "\n",
    "x = (\"olma\", \"banan\", \"gilos\") # tuple yaratish\n",
    "\n",
    "y = list(x)  #tupleni => listga o'zgartirish;\n",
    "\n",
    "y[0] = \"ananas\" #listda o'zgarishlarni amalga oshirish;\n",
    "\n",
    "x = tuple(y) #listni => tuplega qaytarish\n",
    "\n",
    "print(x)\n",
    "\n"
   ]
  },
  {
   "cell_type": "code",
   "execution_count": 32,
   "metadata": {},
   "outputs": [
    {
     "name": "stdout",
     "output_type": "stream",
     "text": [
      "('olma', 'uzum', 'olcha', 'apelsin')\n"
     ]
    }
   ],
   "source": [
    "# Tuplega qiymatlarni qo'shishni ikkita usuli mavjud\n",
    "\n",
    "# 1-usul: Tupleni listga o'zgartirish, unga o'zgartirishlarni qo'shish va tuplega qaytarish \n",
    "\n",
    "\n",
    "tuple1 = (\"olma\", \"uzum\", \"olcha\")\n",
    "\n",
    "y = list(tuple1)\n",
    "\n",
    "y.append(\"apelsin\")\n",
    "\n",
    "tuple1 = tuple(y)\n",
    "\n",
    "print(tuple1)"
   ]
  },
  {
   "cell_type": "code",
   "execution_count": 34,
   "metadata": {},
   "outputs": [
    {
     "name": "stdout",
     "output_type": "stream",
     "text": [
      "('olma', 'uzum', 'olcha', 'ananas')\n"
     ]
    }
   ],
   "source": [
    "# 2-usuli: Ikkita tuple yaratish kerak va ularni bir biriga qo'shib qo'yish kerak\n",
    "\n",
    "tuple1 = (\"olma\", \"uzum\", \"olcha\")\n",
    "\n",
    "y = (\"ananas\",)  # bir qiymatdan iborat tuple yaratganda doim , \n",
    "                 #vergul ishlatilishi kerak aks holda string sifatida qabul qilinadi\n",
    "\n",
    "tuple1 += y #tuple1 = tuple1 + y\n",
    "\n",
    "print(tuple1)"
   ]
  },
  {
   "cell_type": "code",
   "execution_count": 39,
   "metadata": {},
   "outputs": [
    {
     "name": "stdout",
     "output_type": "stream",
     "text": [
      "olma\n",
      "banan\n",
      "olcha\n"
     ]
    }
   ],
   "source": [
    "# qachonki python dasturlash tilida tuple yaratgan paytimizda\n",
    "# o'zgaruvchilar uchun qiymatlar e'lon qilamiz\n",
    "\n",
    "mevalar = (\"olma\", \"banan\", \"olcha\")\n",
    "\n",
    "# va shu qiymatlarni alohida o'zgaruvchilarga tenglab olishimiz mumkin\n",
    "\n",
    "(oq, sariq, qizil) = mevalar\n",
    "\n",
    "print(oq)\n",
    "print(sariq)\n",
    "print(qizil)"
   ]
  },
  {
   "cell_type": "code",
   "execution_count": 40,
   "metadata": {},
   "outputs": [
    {
     "name": "stdout",
     "output_type": "stream",
     "text": [
      "olma\n",
      "banan\n",
      "['olcha', \"o'rik\", 'gilos']\n"
     ]
    }
   ],
   "source": [
    "# * (asteriskdan foydalanish) \n",
    "# Agar o'zgaruvchilar soni qiymatlar sonidan kichik bo'lsa, * orqali bitta o'zgaruvchilarga\n",
    "# turli qiymatlar list sifatida belgilanadi\n",
    "\n",
    "mevalar = (\"olma\", \"banan\", \"olcha\", \"o'rik\", \"gilos\")\n",
    "\n",
    "(oq, sariq, *qizil) = mevalar  \n",
    "\n",
    "print(oq)\n",
    "print(sariq)\n",
    "print(qizil)"
   ]
  },
  {
   "cell_type": "code",
   "execution_count": 41,
   "metadata": {},
   "outputs": [
    {
     "name": "stdout",
     "output_type": "stream",
     "text": [
      "olma\n",
      "['banan', 'olcha', \"o'rik\"]\n",
      "gilos\n"
     ]
    }
   ],
   "source": [
    "mevalar = (\"olma\", \"banan\", \"olcha\", \"o'rik\", \"gilos\")\n",
    "\n",
    "(oq, *sariq, qizil) = mevalar  \n",
    "\n",
    "print(oq)\n",
    "print(sariq)\n",
    "print(qizil)"
   ]
  },
  {
   "cell_type": "code",
   "execution_count": 42,
   "metadata": {},
   "outputs": [
    {
     "name": "stdout",
     "output_type": "stream",
     "text": [
      "olma\n",
      "banan\n",
      "olcha\n"
     ]
    }
   ],
   "source": [
    "#for loop yordamida tupledagi har bitta qiymatlarni chop etishimiz mumkin\n",
    "\n",
    "tuple1 = (\"olma\", \"banan\", \"olcha\")\n",
    "\n",
    "for meva in tuple1:\n",
    "    print(meva)"
   ]
  },
  {
   "cell_type": "code",
   "execution_count": 43,
   "metadata": {},
   "outputs": [
    {
     "name": "stdout",
     "output_type": "stream",
     "text": [
      "olma\n",
      "banan\n",
      "olcha\n"
     ]
    }
   ],
   "source": [
    "#Index raqamlar orqali qiymatlarni chiqarish\n",
    "\n",
    "tuple1 = (\"olma\", \"banan\", \"olcha\")\n",
    "\n",
    "for i in range(len(tuple1)):\n",
    "    print(tuple1[i])"
   ]
  },
  {
   "cell_type": "code",
   "execution_count": 44,
   "metadata": {},
   "outputs": [
    {
     "name": "stdout",
     "output_type": "stream",
     "text": [
      "('a', 'b', 'c', 1, 2, 3)\n"
     ]
    }
   ],
   "source": [
    "# Tuplelarni qo'shish\n",
    "\n",
    "# + operatori yordamida tuplelarni qo'shish\n",
    "\n",
    "tuple1 = (\"a\", \"b\", \"c\")\n",
    "tuple2 = (1, 2, 3)\n",
    "\n",
    "tuple3 = tuple1 + tuple2\n",
    "\n",
    "print(tuple3)"
   ]
  },
  {
   "cell_type": "code",
   "execution_count": 45,
   "metadata": {},
   "outputs": [
    {
     "name": "stdout",
     "output_type": "stream",
     "text": [
      "('olma', 'banan', 'olcha', 'olma', 'banan', 'olcha')\n"
     ]
    }
   ],
   "source": [
    "#Tuplelarni ko'paytirish\n",
    "\n",
    "mevalar = (\"olma\", \"banan\", \"olcha\")\n",
    "\n",
    "tuple1 = mevalar * 2\n",
    "\n",
    "print(tuple1)"
   ]
  },
  {
   "cell_type": "markdown",
   "metadata": {},
   "source": [
    "## Pythonda SETlar bilan ishlash"
   ]
  },
  {
   "cell_type": "code",
   "execution_count": 48,
   "metadata": {},
   "outputs": [],
   "source": [
    "# Setlar ham bitta o'zgaruvchiga turli qiymatlarni saqlash uchun ishlatiladi\n",
    "\n",
    "#Setlar tartiblanmagan, o'zgartirib bo'lmaydigan va indekslanmagan qiymatlardir.\n",
    "\n",
    "#Setlar o'zgartirib bo'lmydigan deyiladi lekin qiymatlarni o'chirish va qo'shish mumkin"
   ]
  },
  {
   "cell_type": "code",
   "execution_count": 49,
   "metadata": {},
   "outputs": [
    {
     "name": "stdout",
     "output_type": "stream",
     "text": [
      "{\"o'rik\", 'anor', 'olma'}\n"
     ]
    }
   ],
   "source": [
    "set1 = {\"olma\", \"anor\", \"o'rik\"}\n",
    "print(set1)"
   ]
  },
  {
   "cell_type": "code",
   "execution_count": 50,
   "metadata": {},
   "outputs": [
    {
     "name": "stdout",
     "output_type": "stream",
     "text": [
      "{\"o'rik\", 'anor', 'olma'}\n"
     ]
    }
   ],
   "source": [
    "#setlarda qiymatlar unique ya'ni takrorlanmas bo'lish kerak\n",
    "\n",
    "set1 = {\"olma\", \"anor\", \"o'rik\", \"olma\"}\n",
    "\n",
    "print(set1)"
   ]
  },
  {
   "cell_type": "code",
   "execution_count": 51,
   "metadata": {},
   "outputs": [
    {
     "ename": "TypeError",
     "evalue": "'set' object is not subscriptable",
     "output_type": "error",
     "traceback": [
      "\u001b[1;31m---------------------------------------------------------------------------\u001b[0m",
      "\u001b[1;31mTypeError\u001b[0m                                 Traceback (most recent call last)",
      "\u001b[1;32m<ipython-input-51-aee5b79f43b0>\u001b[0m in \u001b[0;36m<module>\u001b[1;34m\u001b[0m\n\u001b[0;32m      2\u001b[0m \u001b[1;33m\u001b[0m\u001b[0m\n\u001b[0;32m      3\u001b[0m \u001b[0mset1\u001b[0m \u001b[1;33m=\u001b[0m \u001b[1;33m{\u001b[0m\u001b[1;34m\"olma\"\u001b[0m\u001b[1;33m,\u001b[0m \u001b[1;34m\"anor\"\u001b[0m\u001b[1;33m,\u001b[0m \u001b[1;34m\"o'rik\"\u001b[0m\u001b[1;33m,\u001b[0m \u001b[1;34m\"olma\"\u001b[0m\u001b[1;33m}\u001b[0m\u001b[1;33m\u001b[0m\u001b[1;33m\u001b[0m\u001b[0m\n\u001b[1;32m----> 4\u001b[1;33m \u001b[0mprint\u001b[0m\u001b[1;33m(\u001b[0m\u001b[0mset1\u001b[0m\u001b[1;33m[\u001b[0m\u001b[1;36m1\u001b[0m\u001b[1;33m]\u001b[0m\u001b[1;33m)\u001b[0m\u001b[1;33m\u001b[0m\u001b[1;33m\u001b[0m\u001b[0m\n\u001b[0m",
      "\u001b[1;31mTypeError\u001b[0m: 'set' object is not subscriptable"
     ]
    }
   ],
   "source": [
    "#setlarda indekslar orqali qiymatlarga murojaat qilib bo'lmaydi\n",
    "\n",
    "set1 = {\"olma\", \"anor\", \"o'rik\", \"olma\"}\n",
    "print(set1[1])"
   ]
  },
  {
   "cell_type": "code",
   "execution_count": 52,
   "metadata": {},
   "outputs": [
    {
     "name": "stdout",
     "output_type": "stream",
     "text": [
      "o'rik\n",
      "anor\n",
      "olma\n"
     ]
    }
   ],
   "source": [
    "#setlarda indekslar orqali qiymatlarga murojaat qilib bo'lmaydi\n",
    "#shu sababdan looplardan foydalaniladi\n",
    "\n",
    "\n",
    "set1 = {\"olma\", \"anor\", \"o'rik\", \"olma\"}\n",
    "\n",
    "for x in set1:\n",
    "    print(x)"
   ]
  },
  {
   "cell_type": "code",
   "execution_count": 53,
   "metadata": {},
   "outputs": [
    {
     "name": "stdout",
     "output_type": "stream",
     "text": [
      "True\n"
     ]
    }
   ],
   "source": [
    "# biror bir qiymat setda mavjud yoki mavjud emasligini tekshirish\n",
    "\n",
    "set1 = {\"olma\", \"anor\", \"o'rik\", \"olma\"}\n",
    "\n",
    "print(\"anor\" in set1)"
   ]
  },
  {
   "cell_type": "code",
   "execution_count": 54,
   "metadata": {},
   "outputs": [
    {
     "name": "stdout",
     "output_type": "stream",
     "text": [
      "{'apelsin', \"o'rik\", 'anor', 'olma'}\n"
     ]
    }
   ],
   "source": [
    "# Qachonki set yaratilgandan keyin, uning ichidagi qiymatlarni o'zgartirib bo'lmaydi lekin yangi \n",
    "#qiymatlar qo'shish mumkin\n",
    "\n",
    "#add method orqali\n",
    "\n",
    "set1 = {\"olma\", \"anor\", \"o'rik\"}\n",
    "\n",
    "set1.add(\"apelsin\")\n",
    "\n",
    "print(set1)"
   ]
  },
  {
   "cell_type": "code",
   "execution_count": 55,
   "metadata": {},
   "outputs": [
    {
     "name": "stdout",
     "output_type": "stream",
     "text": [
      "{'banan', 'olcha', 'kiwi', \"o'rik\", 'anor', 'olma'}\n"
     ]
    }
   ],
   "source": [
    "#boshqa bir setdan qiymatlarni ikkinchi setga qo'shish uchun update() methodida foydalanishimiz mumkin\n",
    "\n",
    "set1 = {\"olma\", \"anor\", \"o'rik\"}\n",
    "\n",
    "set2 = {\"banan\", \"olcha\", \"kiwi\"}\n",
    "\n",
    "set1.update(set2)\n",
    "\n",
    "print(set1)"
   ]
  },
  {
   "cell_type": "code",
   "execution_count": 56,
   "metadata": {},
   "outputs": [
    {
     "name": "stdout",
     "output_type": "stream",
     "text": [
      "{\"o'rik\", 'anor', 'banan', 'olcha', 'olma'}\n"
     ]
    }
   ],
   "source": [
    "#Listlardan qiymatlarni setga qo'shib yuborishimiz mumkin\n",
    "\n",
    "set1 = {\"olma\", \"anor\", \"o'rik\"}\n",
    "\n",
    "list1 = [\"banan\", \"olcha\"]\n",
    "\n",
    "set1.update(list1)\n",
    "\n",
    "print(set1)"
   ]
  },
  {
   "cell_type": "code",
   "execution_count": 60,
   "metadata": {},
   "outputs": [
    {
     "name": "stdout",
     "output_type": "stream",
     "text": [
      "{\"o'rik\", 'anor'}\n"
     ]
    },
    {
     "ename": "KeyError",
     "evalue": "'orik'",
     "output_type": "error",
     "traceback": [
      "\u001b[1;31m---------------------------------------------------------------------------\u001b[0m",
      "\u001b[1;31mKeyError\u001b[0m                                  Traceback (most recent call last)",
      "\u001b[1;32m<ipython-input-60-f8b02b83a917>\u001b[0m in \u001b[0;36m<module>\u001b[1;34m\u001b[0m\n\u001b[0;32m      9\u001b[0m \u001b[1;31m#agar mavjud bo'lmagan qiymat yozilsa xatolik qaytariladi\u001b[0m\u001b[1;33m\u001b[0m\u001b[1;33m\u001b[0m\u001b[1;33m\u001b[0m\u001b[0m\n\u001b[0;32m     10\u001b[0m \u001b[1;33m\u001b[0m\u001b[0m\n\u001b[1;32m---> 11\u001b[1;33m \u001b[0mset1\u001b[0m\u001b[1;33m.\u001b[0m\u001b[0mremove\u001b[0m\u001b[1;33m(\u001b[0m\u001b[1;34m\"orik\"\u001b[0m\u001b[1;33m)\u001b[0m\u001b[1;33m\u001b[0m\u001b[1;33m\u001b[0m\u001b[0m\n\u001b[0m\u001b[0;32m     12\u001b[0m \u001b[0mprint\u001b[0m\u001b[1;33m(\u001b[0m\u001b[0mset1\u001b[0m\u001b[1;33m)\u001b[0m\u001b[1;33m\u001b[0m\u001b[1;33m\u001b[0m\u001b[0m\n",
      "\u001b[1;31mKeyError\u001b[0m: 'orik'"
     ]
    }
   ],
   "source": [
    "#setlardan qiymatlarni o'chirish uchun remove() va discard() methodlari ishlatiladi\n",
    "\n",
    "set1 = {\"olma\", \"anor\", \"o'rik\"}\n",
    "\n",
    "set1.remove(\"olma\")\n",
    "\n",
    "print(set1)\n",
    "\n",
    "#agar mavjud bo'lmagan qiymat yozilsa xatolik qaytariladi\n",
    "\n",
    "set1.remove(\"orik\")\n",
    "print(set1)"
   ]
  },
  {
   "cell_type": "code",
   "execution_count": 61,
   "metadata": {},
   "outputs": [
    {
     "name": "stdout",
     "output_type": "stream",
     "text": [
      "{\"o'rik\", 'anor'}\n"
     ]
    }
   ],
   "source": [
    "#discard()\n",
    "\n",
    "set1 = {\"olma\", \"anor\", \"o'rik\"}\n",
    "\n",
    "set1.discard(\"olma\")\n",
    "\n",
    "print(set1)"
   ]
  },
  {
   "cell_type": "code",
   "execution_count": 62,
   "metadata": {},
   "outputs": [
    {
     "name": "stdout",
     "output_type": "stream",
     "text": [
      "{\"o'rik\", 'anor'}\n"
     ]
    }
   ],
   "source": [
    "# agar o'chirilmoqchi bo'lgan qiymat mavjud bo'lmasa xatolik qaytarilmaydi\n",
    "\n",
    "set1.discard(\"olcha\")\n",
    "print(set1)"
   ]
  },
  {
   "cell_type": "code",
   "execution_count": 65,
   "metadata": {},
   "outputs": [
    {
     "name": "stdout",
     "output_type": "stream",
     "text": [
      "o'rik\n",
      "{'anor', 'olma'}\n"
     ]
    }
   ],
   "source": [
    "#pop() method yordamida oxirgi qiymat o'chirilishi kerak, lekin setlar unordered \n",
    "#shu sababdan qaysi qiymat o'chirilishi noma'lum\n",
    "\n",
    "\n",
    "set1 = {\"olma\", \"anor\", \"o'rik\"}\n",
    "\n",
    "x = set1.pop()\n",
    "\n",
    "print(x)\n",
    "\n",
    "print(set1)"
   ]
  },
  {
   "cell_type": "code",
   "execution_count": 66,
   "metadata": {},
   "outputs": [
    {
     "name": "stdout",
     "output_type": "stream",
     "text": [
      "set()\n"
     ]
    }
   ],
   "source": [
    "#clear() yordamida setni bo'shatish mumkin\n",
    "\n",
    "set1 = {\"olma\", \"anor\", \"o'rik\"}\n",
    "\n",
    "set1.clear()\n",
    "\n",
    "print(set1)"
   ]
  },
  {
   "cell_type": "code",
   "execution_count": 67,
   "metadata": {},
   "outputs": [
    {
     "ename": "NameError",
     "evalue": "name 'set1' is not defined",
     "output_type": "error",
     "traceback": [
      "\u001b[1;31m---------------------------------------------------------------------------\u001b[0m",
      "\u001b[1;31mNameError\u001b[0m                                 Traceback (most recent call last)",
      "\u001b[1;32m<ipython-input-67-bdc5a8ab5083>\u001b[0m in \u001b[0;36m<module>\u001b[1;34m\u001b[0m\n\u001b[0;32m      5\u001b[0m \u001b[1;32mdel\u001b[0m \u001b[0mset1\u001b[0m\u001b[1;33m\u001b[0m\u001b[1;33m\u001b[0m\u001b[0m\n\u001b[0;32m      6\u001b[0m \u001b[1;33m\u001b[0m\u001b[0m\n\u001b[1;32m----> 7\u001b[1;33m \u001b[0mprint\u001b[0m\u001b[1;33m(\u001b[0m\u001b[0mset1\u001b[0m\u001b[1;33m)\u001b[0m\u001b[1;33m\u001b[0m\u001b[1;33m\u001b[0m\u001b[0m\n\u001b[0m",
      "\u001b[1;31mNameError\u001b[0m: name 'set1' is not defined"
     ]
    }
   ],
   "source": [
    "#delete kalit so'zi yordamida butun setni o'chirib yuborish mumkin butunlay\n",
    "\n",
    "set1 = {\"olma\", \"anor\", \"o'rik\"}\n",
    "\n",
    "del set1\n",
    "\n",
    "print(set1)\n"
   ]
  },
  {
   "cell_type": "code",
   "execution_count": 68,
   "metadata": {},
   "outputs": [
    {
     "name": "stdout",
     "output_type": "stream",
     "text": [
      "o'rik\n",
      "anor\n",
      "olma\n"
     ]
    }
   ],
   "source": [
    "#Listlar tartiblanmagan bo'lgani uchun faqat looplar yordamida qiymatlarni chop etish imkoni mavjud\n",
    "\n",
    "set1 = {\"olma\", \"anor\", \"o'rik\"}\n",
    "\n",
    "for x in set1:\n",
    "    print(x)"
   ]
  },
  {
   "cell_type": "code",
   "execution_count": 70,
   "metadata": {},
   "outputs": [
    {
     "name": "stdout",
     "output_type": "stream",
     "text": [
      "{'b', 1, 2, 3, 'a', 'c'}\n"
     ]
    }
   ],
   "source": [
    "#Setlarni birlashtirish 2 ta usuli mavjud: union() va update()\n",
    "\n",
    "# 1: union() yordamida ikkita setni birlashtirish \n",
    "\n",
    "set1 = {\"a\", \"b\", \"c\"}\n",
    "set2 = {1, 2, 3}\n",
    "\n",
    "set3 = set1.union(set2)\n",
    "print(set3)"
   ]
  },
  {
   "cell_type": "code",
   "execution_count": 72,
   "metadata": {},
   "outputs": [
    {
     "name": "stdout",
     "output_type": "stream",
     "text": [
      "{'b', 1, 2, 3, 'a', 'c'}\n"
     ]
    }
   ],
   "source": [
    "#2: update() methodida birinchi setdagi qiymatlar ikkinchi setga birlashtiriladi\n",
    "\n",
    "\n",
    "set1 = {\"a\", \"b\", \"c\"}\n",
    "set2 = {1, 2, 3}\n",
    "\n",
    "set1.update(set2)\n",
    "print(set1)"
   ]
  },
  {
   "cell_type": "code",
   "execution_count": 76,
   "metadata": {},
   "outputs": [
    {
     "name": "stdout",
     "output_type": "stream",
     "text": [
      "{1, 2, 3, 'a', 'c', 'b'}\n",
      "{1, 2, 3, 'a', 'c', 'b'}\n"
     ]
    }
   ],
   "source": [
    "#2: update() va union() methodlari takrorlangan qiymatlarni\n",
    "# o'chirib yuboradi \n",
    "\n",
    "\n",
    "set1 = {\"a\", \"b\", \"c\"}\n",
    "set2 = {\"a\", \"b\", 1, 2, 3}\n",
    "\n",
    "set1.update(set2)\n",
    "\n",
    "print(set1)\n",
    "\n",
    "set3 = set1.union(set2)\n",
    "\n",
    "print(set3)\n",
    "\n",
    "#duplicated items are removed"
   ]
  },
  {
   "cell_type": "code",
   "execution_count": 78,
   "metadata": {},
   "outputs": [
    {
     "name": "stdout",
     "output_type": "stream",
     "text": [
      "{'olma'}\n"
     ]
    }
   ],
   "source": [
    "# takrorlangan qiymatlarni aniqlash\n",
    "\n",
    "x = {\"olma\", \"o'rik\", \"banan\"}\n",
    "\n",
    "y = {\"google\", \"apple\", \"olma\"}\n",
    "\n",
    "x.intersection_update(y)\n",
    "\n",
    "print(x)"
   ]
  },
  {
   "cell_type": "code",
   "execution_count": 80,
   "metadata": {},
   "outputs": [
    {
     "name": "stdout",
     "output_type": "stream",
     "text": [
      "{'olma'}\n"
     ]
    }
   ],
   "source": [
    "#ikkala setda ham mavjud qiymatlarni aniqlash\n",
    "\n",
    "x = {\"olma\", \"o'rik\", \"banan\"}\n",
    "\n",
    "y = {\"google\", \"apple\", \"olma\"}\n",
    "\n",
    "z = x.intersection(y)\n",
    "\n",
    "print(z)"
   ]
  },
  {
   "cell_type": "code",
   "execution_count": 82,
   "metadata": {},
   "outputs": [
    {
     "name": "stdout",
     "output_type": "stream",
     "text": [
      "{\"o'rik\", 'google', 'apple', 'banan'}\n"
     ]
    }
   ],
   "source": [
    "#symmetric_difference_update() ikkala setda takror bo'lmagan qiymatlarni aniqlash\n",
    "\n",
    "x = {\"olma\", \"o'rik\", \"banan\"}\n",
    "\n",
    "y = {\"google\", \"apple\", \"olma\"}\n",
    "\n",
    "x.symmetric_difference_update(y)\n",
    "\n",
    "print(x)"
   ]
  },
  {
   "cell_type": "code",
   "execution_count": 83,
   "metadata": {},
   "outputs": [
    {
     "name": "stdout",
     "output_type": "stream",
     "text": [
      "{\"o'rik\", 'google', 'apple', 'banan'}\n"
     ]
    }
   ],
   "source": [
    "#symmetric_difference ham ikkala setda takror bo'lmagan qiymatlarni aniqlash\n",
    "\n",
    "x = {\"olma\", \"o'rik\", \"banan\"}\n",
    "\n",
    "y = {\"google\", \"apple\", \"olma\"}\n",
    "\n",
    "z = x.symmetric_difference(y)\n",
    "\n",
    "print(z)"
   ]
  },
  {
   "cell_type": "markdown",
   "metadata": {},
   "source": [
    "# Python Dictionaries -Lug'atlar"
   ]
  },
  {
   "cell_type": "code",
   "execution_count": null,
   "metadata": {},
   "outputs": [],
   "source": [
    "#Lug'atlar qiymatlarni kalit: qiymat sifatida saqlashga yordam beradi\n",
    "\n",
    "#Lug'atlar tartiblangan, o'zgaruvchan va takrorlanmas qiymatlardir\n",
    "\n",
    "#{} yordamida yoziladi va key:value shaklida bo'ladi\n"
   ]
  },
  {
   "cell_type": "code",
   "execution_count": 84,
   "metadata": {},
   "outputs": [],
   "source": [
    "dict1 = {\n",
    "    \"Nomi\": \"Yeoju\",\n",
    "    \"Shakli\": \"Kontrakt\",\n",
    "    \"Yili\": 2022\n",
    "    }"
   ]
  },
  {
   "cell_type": "code",
   "execution_count": 86,
   "metadata": {},
   "outputs": [
    {
     "name": "stdout",
     "output_type": "stream",
     "text": [
      "{'Nomi': 'Yeoju', 'Shakli': 'Kontrakt', 'Yili': 2022}\n",
      "<class 'dict'>\n"
     ]
    }
   ],
   "source": [
    "print(dict1)\n",
    "print(type(dict1))"
   ]
  },
  {
   "cell_type": "code",
   "execution_count": 89,
   "metadata": {},
   "outputs": [
    {
     "name": "stdout",
     "output_type": "stream",
     "text": [
      "Yeoju\n",
      "Kontrakt\n",
      "2022\n"
     ]
    }
   ],
   "source": [
    "dict1 = {\n",
    "    \"Nomi\": \"Yeoju\",\n",
    "    \"Shakli\": \"Kontrakt\",\n",
    "    \"Yili\": 2022\n",
    "    }\n",
    "\n",
    "print(dict1[\"Nomi\"])\n",
    "print(dict1[\"Shakli\"])\n",
    "print(dict1[\"Yili\"])"
   ]
  },
  {
   "cell_type": "code",
   "execution_count": 94,
   "metadata": {},
   "outputs": [
    {
     "name": "stdout",
     "output_type": "stream",
     "text": [
      "{'Nomi': 'Yeoju', 'Shakli': 'Kontrakt', 'Yili': 1987}\n"
     ]
    }
   ],
   "source": [
    "# lug'atlarda aniq bir navbatlar o'rinlar mavjud\n",
    "\n",
    "#Lug'atlar o'zgaruvchan, biz yangi qiytatlar qo'sha olamiz, o'chira olamiz\n",
    "\n",
    "# Takrorlangan kalit qiymatlarga ruxsat etilmagan shu sababdan ham eng so'nggidagi qiymat saqlanadi\n",
    "\n",
    "dict1 ={\n",
    "    \"Nomi\": \"Yeoju\",\n",
    "    \"Shakli\": \"Kontrakt\",\n",
    "    \"Yili\": 2022,\n",
    "    \"Yili\": 1987   \n",
    "    }\n",
    "\n",
    "print(dict1)"
   ]
  },
  {
   "cell_type": "code",
   "execution_count": 95,
   "metadata": {},
   "outputs": [
    {
     "name": "stdout",
     "output_type": "stream",
     "text": [
      "3\n"
     ]
    }
   ],
   "source": [
    "#len() mavjud qiymatlarni sonini chop etish\n",
    "\n",
    "print(len(dict1))"
   ]
  },
  {
   "cell_type": "code",
   "execution_count": 96,
   "metadata": {},
   "outputs": [
    {
     "name": "stdout",
     "output_type": "stream",
     "text": [
      "{'Nomi': 'Yeoju', 'Shakli': 'Kontrakt', 'Hududi': False, 'Yili': 2022, 'Talabalar': ['bakalavr', 'master', 'phd']}\n"
     ]
    }
   ],
   "source": [
    "#Lug'atlardagi qiymatlar istalgan turda bo'lishi mumkin\n",
    "\n",
    "dict1 ={\n",
    "    \"Nomi\": \"Yeoju\",\n",
    "    \"Shakli\": \"Kontrakt\",\n",
    "    \"Hududi\": False,\n",
    "    \"Yili\": 2022,\n",
    "    \"Talabalar\": [\"bakalavr\", \"master\", \"phd\"]\n",
    "    }\n",
    "\n",
    "print(dict1)\n"
   ]
  },
  {
   "cell_type": "code",
   "execution_count": 97,
   "metadata": {},
   "outputs": [
    {
     "name": "stdout",
     "output_type": "stream",
     "text": [
      "Indekslangan kalit Yeoju\n"
     ]
    }
   ],
   "source": [
    "# qiymatlarga murojaat qilish: kalit nomini yozish orqali amalga oshadi \n",
    "\n",
    "dict1 = {\n",
    "    \"Nomi\": \"Yeoju\",\n",
    "    \"Shakli\": \"Kontrakt\",\n",
    "    \"Yili\": 2022\n",
    "    }\n",
    "\n",
    "x = dict1[\"Nomi\"]\n",
    "\n",
    "print(\"Indekslangan kalit: \" + x)"
   ]
  },
  {
   "cell_type": "code",
   "execution_count": 98,
   "metadata": {},
   "outputs": [
    {
     "name": "stdout",
     "output_type": "stream",
     "text": [
      "2022\n"
     ]
    }
   ],
   "source": [
    "# get() orqali ham bir xil natijaga erishish mumkin\n",
    "\n",
    "y = dict1.get(\"Yili\")\n",
    "\n",
    "print(y)"
   ]
  },
  {
   "cell_type": "code",
   "execution_count": 101,
   "metadata": {},
   "outputs": [
    {
     "name": "stdout",
     "output_type": "stream",
     "text": [
      "dict_keys(['Nomi', 'Shakli', 'Yili'])\n",
      "dict_values(['Yeoju', 'Kontrakt', 2022])\n"
     ]
    }
   ],
   "source": [
    "#keys() yordamida mavjud kalitlarni tekshirish\n",
    "\n",
    "z = dict1.keys()\n",
    "\n",
    "print(z)\n",
    "\n",
    "f = dict1.values()\n",
    "\n",
    "print(f)"
   ]
  },
  {
   "cell_type": "code",
   "execution_count": 102,
   "metadata": {},
   "outputs": [
    {
     "name": "stdout",
     "output_type": "stream",
     "text": [
      "{'Nomi': 'Yeoju', 'Shakli': 'Kontrakt', 'Yili': 2018}\n"
     ]
    }
   ],
   "source": [
    "#qiymatlarni o'zgartirish\n",
    "\n",
    "dict1 = {\n",
    "    \"Nomi\": \"Yeoju\",\n",
    "    \"Shakli\": \"Kontrakt\",\n",
    "    \"Yili\": 2022\n",
    "}\n",
    "\n",
    "dict1[\"Yili\"] = 2018\n",
    "\n",
    "print(dict1)"
   ]
  },
  {
   "cell_type": "code",
   "execution_count": 103,
   "metadata": {},
   "outputs": [
    {
     "name": "stdout",
     "output_type": "stream",
     "text": [
      "{'Nomi': 'Yeoju', 'Shakli': 'Kontrakt', 'Yili': 2019}\n"
     ]
    }
   ],
   "source": [
    "#update() yordamida qiymatlarni yangilash\n",
    "\n",
    "dict1 = {\n",
    "    \"Nomi\": \"Yeoju\",\n",
    "    \"Shakli\": \"Kontrakt\",\n",
    "    \"Yili\": 2022\n",
    "}\n",
    "\n",
    "dict1.update({\"Yili\": 2019})\n",
    "\n",
    "print(dict1)"
   ]
  },
  {
   "cell_type": "code",
   "execution_count": 104,
   "metadata": {},
   "outputs": [
    {
     "name": "stdout",
     "output_type": "stream",
     "text": [
      "{'Nomi': 'Yeoju', 'Shakli': 'Kontrakt', 'Yili': 2022, 'Joyi': 'Yakkasaroy'}\n"
     ]
    }
   ],
   "source": [
    "#Yangi qiymatlar qo'shish\n",
    "\n",
    "dict1 = {\n",
    "    \"Nomi\": \"Yeoju\",\n",
    "    \"Shakli\": \"Kontrakt\",\n",
    "    \"Yili\": 2022\n",
    "}\n",
    "\n",
    "dict1[\"Joyi\"] = \"Yakkasaroy\"\n",
    "\n",
    "print(dict1)"
   ]
  },
  {
   "cell_type": "code",
   "execution_count": 105,
   "metadata": {},
   "outputs": [
    {
     "name": "stdout",
     "output_type": "stream",
     "text": [
      "{'Nomi': 'Yeoju', 'Shakli': 'Kontrakt', 'Yili': 2022, 'Joyi': 'Yakkasaroy'}\n"
     ]
    }
   ],
   "source": [
    "#Yangi qiymatlar qo'shish update() yordamida\n",
    "\n",
    "dict1 = {\n",
    "    \"Nomi\": \"Yeoju\",\n",
    "    \"Shakli\": \"Kontrakt\",\n",
    "    \"Yili\": 2022\n",
    "}\n",
    "\n",
    "dict1.update({\"Joyi\": \"Yakkasaroy\"})\n",
    "\n",
    "print(dict1)"
   ]
  },
  {
   "cell_type": "code",
   "execution_count": 110,
   "metadata": {},
   "outputs": [
    {
     "name": "stdout",
     "output_type": "stream",
     "text": [
      "{'Nomi': 'Yeoju', 'Shakli': 'Kontrakt'}\n"
     ]
    }
   ],
   "source": [
    "#pop() da kalit nomini ishlatish orqali qiymatlarni o'chirish mumkin\n",
    "\n",
    "dict1 = {\n",
    "    \"Nomi\": \"Yeoju\",\n",
    "    \"Shakli\": \"Kontrakt\",\n",
    "    \"Yili\": 2022\n",
    "}\n",
    "\n",
    "dict1.pop(\"Yili\")\n",
    "\n",
    "print(dict1)"
   ]
  },
  {
   "cell_type": "code",
   "execution_count": 111,
   "metadata": {},
   "outputs": [
    {
     "name": "stdout",
     "output_type": "stream",
     "text": [
      "{'Nomi': 'Yeoju', 'Shakli': 'Kontrakt'}\n"
     ]
    }
   ],
   "source": [
    "#popitem() yordamida oxirgi kiritilgan qiymat o'chiriladi \n",
    "\n",
    "dict1 = {\n",
    "    \"Nomi\": \"Yeoju\",\n",
    "    \"Shakli\": \"Kontrakt\",\n",
    "    \"Yili\": 2022\n",
    "}\n",
    "\n",
    "dict1.popitem()\n",
    "print(dict1)"
   ]
  },
  {
   "cell_type": "code",
   "execution_count": 112,
   "metadata": {},
   "outputs": [
    {
     "name": "stdout",
     "output_type": "stream",
     "text": [
      "{'Shakli': 'Kontrakt', 'Yili': 2022}\n"
     ]
    }
   ],
   "source": [
    "#del kalit bilan birgalikda qiymatlarni o'chirishga ishlatiladi\n",
    "\n",
    "dict1 = {\n",
    "    \"Nomi\": \"Yeoju\",\n",
    "    \"Shakli\": \"Kontrakt\",\n",
    "    \"Yili\": 2022\n",
    "}\n",
    "\n",
    "del dict1[\"Nomi\"]\n",
    "\n",
    "print(dict1)"
   ]
  },
  {
   "cell_type": "code",
   "execution_count": 113,
   "metadata": {},
   "outputs": [
    {
     "ename": "NameError",
     "evalue": "name 'dict1' is not defined",
     "output_type": "error",
     "traceback": [
      "\u001b[1;31m---------------------------------------------------------------------------\u001b[0m",
      "\u001b[1;31mNameError\u001b[0m                                 Traceback (most recent call last)",
      "\u001b[1;32m<ipython-input-113-b4c0565cc654>\u001b[0m in \u001b[0;36m<module>\u001b[1;34m\u001b[0m\n\u001b[0;32m      9\u001b[0m \u001b[1;32mdel\u001b[0m \u001b[0mdict1\u001b[0m  \u001b[1;31m#lug'at butunlay o'chiriladi va print() yordamida xatolik kelib chiqadi\u001b[0m\u001b[1;33m\u001b[0m\u001b[1;33m\u001b[0m\u001b[0m\n\u001b[0;32m     10\u001b[0m \u001b[1;33m\u001b[0m\u001b[0m\n\u001b[1;32m---> 11\u001b[1;33m \u001b[0mprint\u001b[0m\u001b[1;33m(\u001b[0m\u001b[0mdict1\u001b[0m\u001b[1;33m)\u001b[0m\u001b[1;33m\u001b[0m\u001b[1;33m\u001b[0m\u001b[0m\n\u001b[0m",
      "\u001b[1;31mNameError\u001b[0m: name 'dict1' is not defined"
     ]
    }
   ],
   "source": [
    "#del yordamida lug'at butunlay o'chiriladi\n",
    "\n",
    "dict1 = {\n",
    "    \"Nomi\": \"Yeoju\",\n",
    "    \"Shakli\": \"Kontrakt\",\n",
    "    \"Yili\": 2022\n",
    "}\n",
    "\n",
    "del dict1  #lug'at butunlay o'chiriladi va print() yordamida xatolik kelib chiqadi\n",
    "\n",
    "print(dict1)"
   ]
  },
  {
   "cell_type": "code",
   "execution_count": 114,
   "metadata": {},
   "outputs": [
    {
     "name": "stdout",
     "output_type": "stream",
     "text": [
      "{}\n"
     ]
    }
   ],
   "source": [
    "#clear() methodi yordamida lug'at ichidagi ma'lumotlar o'chiriladi\n",
    "\n",
    "dict1 = {\n",
    "    \"Nomi\": \"Yeoju\",\n",
    "    \"Shakli\": \"Kontrakt\",\n",
    "    \"Yili\": 2022\n",
    "}\n",
    "\n",
    "dict1.clear()\n",
    "\n",
    "print(dict1)"
   ]
  },
  {
   "cell_type": "code",
   "execution_count": 115,
   "metadata": {},
   "outputs": [
    {
     "name": "stdout",
     "output_type": "stream",
     "text": [
      "Nomi\n",
      "Shakli\n",
      "Yili\n"
     ]
    }
   ],
   "source": [
    "#for loop yordamida qiymatlarga murojaat qilish imkoni mavjud: har bitta kalit nomlari birma bir \n",
    "# chop etiladi\n",
    "\n",
    "dict1 = {\n",
    "    \"Nomi\": \"Yeoju\",\n",
    "    \"Shakli\": \"Kontrakt\",\n",
    "    \"Yili\": 2022\n",
    "}\n",
    "\n",
    "for x in dict1:\n",
    "    print(x)"
   ]
  },
  {
   "cell_type": "code",
   "execution_count": 116,
   "metadata": {},
   "outputs": [
    {
     "name": "stdout",
     "output_type": "stream",
     "text": [
      "Yeoju\n",
      "Kontrakt\n",
      "2022\n"
     ]
    }
   ],
   "source": [
    "#qiymatlarni chop etish\n",
    "\n",
    "for x in dict1:\n",
    "    print(dict1[x])"
   ]
  },
  {
   "cell_type": "code",
   "execution_count": 117,
   "metadata": {},
   "outputs": [
    {
     "name": "stdout",
     "output_type": "stream",
     "text": [
      "Yeoju\n",
      "Kontrakt\n",
      "2022\n"
     ]
    }
   ],
   "source": [
    "#valuelarni chop qilish\n",
    "\n",
    "for x in dict1.values():\n",
    "    print(x)"
   ]
  },
  {
   "cell_type": "code",
   "execution_count": 118,
   "metadata": {},
   "outputs": [
    {
     "name": "stdout",
     "output_type": "stream",
     "text": [
      "Nomi\n",
      "Shakli\n",
      "Yili\n"
     ]
    }
   ],
   "source": [
    "#kalitlarni tekshirish\n",
    "\n",
    "for x in dict1.keys():\n",
    "    print(x)"
   ]
  },
  {
   "cell_type": "code",
   "execution_count": 122,
   "metadata": {},
   "outputs": [
    {
     "name": "stdout",
     "output_type": "stream",
     "text": [
      "Nomi Yeoju\n",
      "Shakli Kontrakt\n",
      "Yili 2022\n",
      "Nomi :  Yeoju\n",
      "Shakli :  Kontrakt\n",
      "Yili :  2022\n"
     ]
    }
   ],
   "source": [
    "#itemlar yordamida kalit va qiymatlarni aniqlash\n",
    "\n",
    "for x, y in dict1.items():\n",
    "    print(x, y)\n",
    "    \n",
    "for x, y in dict1.items():  \n",
    "    print(x, \": \", y)   #: orqali qiymatlarni ajratish"
   ]
  },
  {
   "cell_type": "code",
   "execution_count": 123,
   "metadata": {},
   "outputs": [
    {
     "name": "stdout",
     "output_type": "stream",
     "text": [
      "{'Nomi': 'Yeoju', 'Shakli': 'Kontrakt', 'Yili': 2022}\n"
     ]
    }
   ],
   "source": [
    "#Lug'atlarni nusxalash copy()\n",
    "\n",
    "dict1 = {\n",
    "    \"Nomi\": \"Yeoju\",\n",
    "    \"Shakli\": \"Kontrakt\",\n",
    "    \"Yili\": 2022\n",
    "}\n",
    "\n",
    "dict2 = dict1.copy()\n",
    "\n",
    "print(dict2)"
   ]
  },
  {
   "cell_type": "code",
   "execution_count": 124,
   "metadata": {},
   "outputs": [
    {
     "name": "stdout",
     "output_type": "stream",
     "text": [
      "{'Nomi': 'Yeoju', 'Shakli': 'Kontrakt', 'Yili': 2022}\n"
     ]
    }
   ],
   "source": [
    "#dict() yordamida yangi lug'at hosil qilish mumkin\n",
    "\n",
    "dict1 = {\n",
    "    \"Nomi\": \"Yeoju\",\n",
    "    \"Shakli\": \"Kontrakt\",\n",
    "    \"Yili\": 2022\n",
    "}\n",
    "\n",
    "dict2 = dict(dict1)\n",
    "\n",
    "print(dict2)"
   ]
  },
  {
   "cell_type": "code",
   "execution_count": 126,
   "metadata": {},
   "outputs": [
    {
     "name": "stdout",
     "output_type": "stream",
     "text": [
      "{'farzand1': {'ismi': 'Akbar', 'yoshi': 21}, 'farzand2': {'ismi': 'Azimbek', 'yoshi': 19}, 'farzand3': {'ismi': 'Ilhom', 'yoshi': 15}}\n"
     ]
    }
   ],
   "source": [
    "#Nested lug'atlar- ichma ich lug'atlar\n",
    "\n",
    "oila = {\n",
    "    \"farzand1\" : {\n",
    "        \"ismi\" : \"Akbar\",\n",
    "        \"yoshi\": 21\n",
    "    },\n",
    "    \"farzand2\" :{\n",
    "        \"ismi\" : \"Azimbek\",\n",
    "        \"yoshi\": 19\n",
    "    },\n",
    "    \"farzand3\": {\n",
    "        \"ismi\": \"Ilhom\",\n",
    "        \"yoshi\": 15\n",
    "    }      \n",
    "}\n",
    "\n",
    "print(oila)"
   ]
  },
  {
   "cell_type": "code",
   "execution_count": 131,
   "metadata": {},
   "outputs": [
    {
     "name": "stdout",
     "output_type": "stream",
     "text": [
      "{'farzand1': {'ismi': 'Akbar', 'yoshi': 21}, 'farzand2': {'ismi': 'Azimbek', 'yoshi': 19}, 'farzand3': {'ismi': 'Ilhom', 'yoshi': 15}}\n"
     ]
    }
   ],
   "source": [
    "farzand1 = {\n",
    "   \"ismi\" : \"Akbar\",\n",
    "   \"yoshi\": 21\n",
    "}\n",
    "farzand2 = {\n",
    "   \"ismi\" : \"Azimbek\",\n",
    "   \"yoshi\": 19\n",
    "}\n",
    "farzand3 = {\n",
    "    \"ismi\": \"Ilhom\",\n",
    "    \"yoshi\": 15\n",
    "}  \n",
    "    \n",
    "oila = {\n",
    "   \"farzand1\" : farzand1,\n",
    "    \"farzand2\" : farzand2,\n",
    "   \"farzand3\" : farzand3\n",
    "}\n",
    "\n",
    "print(oila)"
   ]
  },
  {
   "cell_type": "code",
   "execution_count": null,
   "metadata": {},
   "outputs": [],
   "source": []
  }
 ],
 "metadata": {
  "kernelspec": {
   "display_name": "Python 3",
   "language": "python",
   "name": "python3"
  },
  "language_info": {
   "codemirror_mode": {
    "name": "ipython",
    "version": 3
   },
   "file_extension": ".py",
   "mimetype": "text/x-python",
   "name": "python",
   "nbconvert_exporter": "python",
   "pygments_lexer": "ipython3",
   "version": "3.8.3"
  }
 },
 "nbformat": 4,
 "nbformat_minor": 4
}
